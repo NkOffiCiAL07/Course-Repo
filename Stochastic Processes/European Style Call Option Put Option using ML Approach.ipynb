{
  "nbformat": 4,
  "nbformat_minor": 0,
  "metadata": {
    "colab": {
      "name": "3b.ipynb",
      "provenance": [],
      "collapsed_sections": []
    },
    "kernelspec": {
      "name": "python3",
      "display_name": "Python 3"
    },
    "language_info": {
      "name": "python"
    }
  },
  "cells": [
    {
      "cell_type": "markdown",
      "source": [
        "# Course Name :- Stochastic Processes [ MTH332 ]\n",
        "# Course Instructor :- Dr. LokPati Tripathi\n",
        "## Author Name :\n",
        "          1. Sarthak [ 1906332 ]\n",
        "          2. Nishant Kumar [ 1904123 ]"
      ],
      "metadata": {
        "id": "b3dV6MzVi9FO"
      }
    },
    {
      "cell_type": "markdown",
      "source": [
        "#Assignment-3B: Monte Carlo Integration - A machine learning approach #\n",
        "\n",
        "Apply the algorithm proposed in the report \"A machine learning approach for efficient multi‐dimensional\n",
        "integration\" to approximate the value of  \n",
        "\n",
        "1.   single-asset European style call option. \n",
        "\n",
        "    Pay-off function: $V(S,T) = \\max(S-K, 0)$ \n",
        "    \n",
        "    Parameters: $T = 1, r=0.05, K=100, S_{0}=110, \\text{ and } \\sigma = 0.2$\n",
        "2.   single-asset European style put option. \n",
        "\n",
        "    Pay-off function: $V(S,T) = \\max(K-S, 0)$\n",
        "\n",
        "    Parameters: $T = 1, r=0.05, K=100, S_{0}=90, \\text{ and } \\sigma = 0.2$\n",
        "3.   multi-asset European style rainbow put on min option. It gives the holder the right to sell the minimum asset at the strike price K at expiry T. \n",
        "\n",
        "  Pay-off function: $V(S^{1}, S^{2},\\ldots S^{n}, T) = \\max\\{K - \\min(S^{1}, S^{2},\\ldots,S^{n}),0\\}$\n",
        "\n",
        "  Parameters: $T = 1, r=0.05, K=100, S^{i}_{0}=100,\\; \\rho_{ii} = 1,\\;\\rho_{ij} = 0.1, i\\neq j, \\text{ and } \\sigma_{i} = 0.2$\n",
        "\n",
        "  Compute the value of the rainbow option for two-asset(n=2) and four-asset(n=4) and compare the result with the exact solution in two-asset case.\n",
        "\n",
        "Describe the results which you obtain after applying the algorithm.\n",
        "\n",
        "*Note:* Please explain clearly all the parameters, specific terms, and notations involved in your solution.\n",
        "\n",
        "\n",
        "\n",
        "\n",
        "\n",
        "\n"
      ],
      "metadata": {
        "id": "Ypp3OXBGtIok"
      }
    },
    {
      "cell_type": "code",
      "source": [
        "!pip install vegas"
      ],
      "metadata": {
        "colab": {
          "base_uri": "https://localhost:8080/"
        },
        "id": "5KC1sSOT5r5k",
        "outputId": "881f7729-b030-4262-920c-e2c844044bef"
      },
      "execution_count": null,
      "outputs": [
        {
          "output_type": "stream",
          "name": "stdout",
          "text": [
            "Collecting vegas\n",
            "  Downloading vegas-5.1.1.tar.gz (1.3 MB)\n",
            "\u001b[K     |████████████████████████████████| 1.3 MB 5.1 MB/s \n",
            "\u001b[?25hRequirement already satisfied: numpy>=1.7 in /usr/local/lib/python3.7/dist-packages (from vegas) (1.21.6)\n",
            "Collecting gvar>=8.0\n",
            "  Downloading gvar-11.9.6.tar.gz (1.9 MB)\n",
            "\u001b[K     |████████████████████████████████| 1.9 MB 29.1 MB/s \n",
            "\u001b[?25hRequirement already satisfied: scipy in /usr/local/lib/python3.7/dist-packages (from gvar>=8.0->vegas) (1.4.1)\n",
            "Building wheels for collected packages: vegas, gvar\n",
            "  Building wheel for vegas (setup.py) ... \u001b[?25l\u001b[?25hdone\n",
            "  Created wheel for vegas: filename=vegas-5.1.1-cp37-cp37m-linux_x86_64.whl size=1501875 sha256=7278b554d2f8488c5b6e904a76b80e8ed833800271edf0b63a85bb88da4c0c6c\n",
            "  Stored in directory: /root/.cache/pip/wheels/5c/e4/05/3bcde90bc37d2c2b77a85b376b36926daee5516139fa9cd610\n",
            "  Building wheel for gvar (setup.py) ... \u001b[?25l\u001b[?25hdone\n",
            "  Created wheel for gvar: filename=gvar-11.9.6-cp37-cp37m-linux_x86_64.whl size=3947973 sha256=df8f9549d9a8d86d7fd14c4a9a5ce0f250179c602f09dac9ab5f25f48f8ba7a6\n",
            "  Stored in directory: /root/.cache/pip/wheels/2b/fd/bf/40b85a16253565a4f9414bceb6278ea7bebf7ea5c9b6ae9be6\n",
            "Successfully built vegas gvar\n",
            "Installing collected packages: gvar, vegas\n",
            "Successfully installed gvar-11.9.6 vegas-5.1.1\n"
          ]
        }
      ]
    },
    {
      "cell_type": "markdown",
      "source": [
        "# A \n",
        "\n",
        "$$ Single-asset * European * style * call * option.$$\n",
        "\n",
        "$$ Pay-off *function: V(S,T) = \\max(S-K, 0) $$\n",
        "    \n",
        "$$ Parameters: T = 1, r=0.05, K=100, S_{0}=110, \\text{ and } \\sigma = 0.2 $$"
      ],
      "metadata": {
        "id": "FGstiFAo3l8b"
      }
    },
    {
      "cell_type": "code",
      "source": [
        "# Importing required libraries\n",
        "import numpy as np\n",
        "\n",
        "# number of samples\n",
        "n = 10000\n",
        "\n",
        "# Sampling normal distribution\n",
        "X = np.random.normal(0, 1, n)"
      ],
      "metadata": {
        "id": "ynX-THZZk2d4"
      },
      "execution_count": 414,
      "outputs": []
    },
    {
      "cell_type": "markdown",
      "source": [
        "### Formula of S(t) :-\n",
        "$$ \\Large S(t) = S0 * e^{(\\mu - \\frac{1}{2}\\sigma^2)t + \\sigma\\sqrt(t)Y} $$\n",
        "\n",
        "$$ \\Large Y \\sim \\mathcal{N}(0, 1)$$"
      ],
      "metadata": {
        "id": "mRXxxEQWqZbG"
      }
    },
    {
      "cell_type": "code",
      "source": [
        "# Parameter for European style call option\n",
        "# maturity \n",
        "T = 1\n",
        "\n",
        " # risk free rate\n",
        "r = 0.05\n",
        "\n",
        "# strike price\n",
        "K = 100\n",
        "\n",
        "# spot stock price\n",
        "S0 = 110\n",
        "\n",
        "# diffusion coefficient or volatility\n",
        "sig = 0.2"
      ],
      "metadata": {
        "id": "rhOmUAMMlf_3"
      },
      "execution_count": 415,
      "outputs": []
    },
    {
      "cell_type": "code",
      "source": [
        "# Defining St\n",
        "def PriceAtT1(X):\n",
        "    return S0 * np.exp((r - 1 / 2 * sig ** 2) * T + sig * np.sqrt(T) * X)"
      ],
      "metadata": {
        "id": "RYsUyxEqqHX9"
      },
      "execution_count": 426,
      "outputs": []
    },
    {
      "cell_type": "markdown",
      "source": [
        "$$ PayOff = MAX(St - K, 0)$$"
      ],
      "metadata": {
        "id": "GMmBoVcXKZtt"
      }
    },
    {
      "cell_type": "code",
      "source": [
        "# Pay Off Function of European Call Option\n",
        "Y = np.maximum(PriceAtT1(X) - K, 0)"
      ],
      "metadata": {
        "id": "COovVDSrq7EF"
      },
      "execution_count": 427,
      "outputs": []
    },
    {
      "cell_type": "markdown",
      "source": [
        "### Fitting Values to Multi-layer Perceptron Model"
      ],
      "metadata": {
        "id": "3IkASwEgskZL"
      }
    },
    {
      "cell_type": "code",
      "source": [
        "# Defining MLPClassifier\n",
        "from sklearn.neural_network import MLPClassifier\n",
        "clf = MLPClassifier(solver = 'lbfgs', alpha = 1e-5, hidden_layer_sizes = (4, 3), random_state = 1)\n",
        "\n",
        "# Reshaping input to 2d\n",
        "X = np.reshape(X, (len(X), 1))\n",
        "Y = Y.astype('int')\n",
        "\n",
        "# Fitting X, Y values.\n",
        "clf.fit(X, Y)"
      ],
      "metadata": {
        "colab": {
          "base_uri": "https://localhost:8080/"
        },
        "id": "OEZJPXIrtvoG",
        "outputId": "f80c0f02-7a6f-425e-96ee-69859ef7404a"
      },
      "execution_count": 428,
      "outputs": [
        {
          "output_type": "stream",
          "name": "stderr",
          "text": [
            "/usr/local/lib/python3.7/dist-packages/sklearn/neural_network/_multilayer_perceptron.py:1109: DataConversionWarning: A column-vector y was passed when a 1d array was expected. Please change the shape of y to (n_samples, ), for example using ravel().\n",
            "  y = column_or_1d(y, warn=True)\n",
            "/usr/local/lib/python3.7/dist-packages/sklearn/neural_network/_multilayer_perceptron.py:549: ConvergenceWarning: lbfgs failed to converge (status=1):\n",
            "STOP: TOTAL NO. of ITERATIONS REACHED LIMIT.\n",
            "\n",
            "Increase the number of iterations (max_iter) or scale the data as shown in:\n",
            "    https://scikit-learn.org/stable/modules/preprocessing.html\n",
            "  self.n_iter_ = _check_optimize_result(\"lbfgs\", opt_res, self.max_iter)\n"
          ]
        },
        {
          "output_type": "execute_result",
          "data": {
            "text/plain": [
              "MLPClassifier(alpha=1e-05, hidden_layer_sizes=(4, 3), random_state=1,\n",
              "              solver='lbfgs')"
            ]
          },
          "metadata": {},
          "execution_count": 428
        }
      ]
    },
    {
      "cell_type": "code",
      "source": [
        "Y = clf.predict(X)\n",
        "print(\"Direct Prediction of Pay off using MLP classifier :- \", np.mean(Y))"
      ],
      "metadata": {
        "colab": {
          "base_uri": "https://localhost:8080/"
        },
        "id": "Cvl7OfvIN6Bd",
        "outputId": "5ea2ccb0-2a9b-4361-b148-aa03cf4d7638"
      },
      "execution_count": 432,
      "outputs": [
        {
          "output_type": "stream",
          "name": "stdout",
          "text": [
            "Direct Prediction of Pay off using MLP classifier :-  17.377\n"
          ]
        }
      ]
    },
    {
      "cell_type": "markdown",
      "source": [
        "### Monte Carlo Simulation Results"
      ],
      "metadata": {
        "id": "_NWdn0Yo1pOW"
      }
    },
    {
      "cell_type": "code",
      "source": [
        "# Simulation using Monte Carlo method\n",
        "def Monte_Carlo_Simulation1():\n",
        "    Total_Sum = 0\n",
        "    for i in range(1000):\n",
        "        X = np.random.normal(0, 1, 10000)\n",
        "        Y = np.maximum(PriceAtT1(X) - K, 0)\n",
        "        Total_Sum += np.mean(Y)\n",
        "    return Total_Sum / 1000\n",
        "  \n",
        "result = Monte_Carlo_Simulation1()\n",
        "result * np.exp(-r * T)"
      ],
      "metadata": {
        "colab": {
          "base_uri": "https://localhost:8080/"
        },
        "id": "3D4jN-uw1DuQ",
        "outputId": "4ced9f14-7060-4154-8224-ed7a75510b98"
      },
      "execution_count": 381,
      "outputs": [
        {
          "output_type": "execute_result",
          "data": {
            "text/plain": [
              "17.665784155258333"
            ]
          },
          "metadata": {},
          "execution_count": 381
        }
      ]
    },
    {
      "cell_type": "markdown",
      "source": [
        "### Using Vegas "
      ],
      "metadata": {
        "id": "yKcsi53v2VOi"
      }
    },
    {
      "cell_type": "code",
      "source": [
        "def f1(X):\n",
        "    return max(S0 * np.exp((r - 1 / 2 * (sig ** 2)) * T + sig * np.sqrt(T) * X) - K, 0)"
      ],
      "metadata": {
        "id": "Jq2gQOOPW3Lm"
      },
      "execution_count": 85,
      "outputs": []
    },
    {
      "cell_type": "code",
      "source": [
        "# importing required libraries\n",
        "import vegas\n",
        "import math\n",
        "import gvar as gv\n",
        "\n",
        "# integrator for expectation values in distribution g\n",
        "g =  gv.gvar(0, 1)\n",
        "g_expval = vegas.PDFIntegrator(g)\n",
        "\n",
        "# <f1> in distribution g\n",
        "results = g_expval(f1, nitn = 5, neval = 10000)\n",
        "print(results * np.exp(- r * T))"
      ],
      "metadata": {
        "colab": {
          "base_uri": "https://localhost:8080/"
        },
        "id": "bVEsisAeYypA",
        "outputId": "37100e50-afca-4a55-eadc-10d39b50677e"
      },
      "execution_count": 86,
      "outputs": [
        {
          "output_type": "stream",
          "name": "stdout",
          "text": [
            "17.6620(16)\n"
          ]
        }
      ]
    },
    {
      "cell_type": "markdown",
      "source": [
        "### Using Scipy integrator"
      ],
      "metadata": {
        "id": "NS_eEnRULY6t"
      }
    },
    {
      "cell_type": "code",
      "source": [
        "def f2(X):\n",
        "    return max(S0 * np.exp((r - 1/2 * sig ** 2) * T + sig * np.sqrt(T) * X) - K, 0) * (1 / np.sqrt(2 * np.pi)) * np.exp(- (1 / 2) * (X ** 2))"
      ],
      "metadata": {
        "id": "DZ4Fj-WZUZ0l"
      },
      "execution_count": 87,
      "outputs": []
    },
    {
      "cell_type": "code",
      "source": [
        "from scipy.integrate import quad\n",
        "def integrate1():\n",
        "    return quad(f2, -np.inf, np.inf)"
      ],
      "metadata": {
        "id": "P-lu5rH3hfqO"
      },
      "execution_count": 88,
      "outputs": []
    },
    {
      "cell_type": "code",
      "source": [
        "Integral = integrate1()\n",
        "Integral[0] * np.exp(-r * T)"
      ],
      "metadata": {
        "id": "m5xfAyHMhflE",
        "colab": {
          "base_uri": "https://localhost:8080/"
        },
        "outputId": "ae689a81-828d-47b9-f64f-9833624b6fcd"
      },
      "execution_count": 89,
      "outputs": [
        {
          "output_type": "execute_result",
          "data": {
            "text/plain": [
              "17.662953759487184"
            ]
          },
          "metadata": {},
          "execution_count": 89
        }
      ]
    },
    {
      "cell_type": "markdown",
      "source": [
        "## The price P of the option at is given by P0 := P(S0, 0) of european style call option for single asset :-\n",
        "1. using Monte Carlo Simulation is : 17.861992467235645\n",
        "2. using Vegas Integrator is : 17.6620(16)\n",
        "3. using Scipy Integrator is : 17.662953759487184"
      ],
      "metadata": {
        "id": "9aC_lqSGy9pv"
      }
    },
    {
      "cell_type": "markdown",
      "source": [
        "#######################################################################################################"
      ],
      "metadata": {
        "id": "Bpi9We2L2eLG"
      }
    },
    {
      "cell_type": "markdown",
      "source": [
        "# B\n",
        "\n",
        "$$ Single - asset* European *style*put *option. $$\n",
        "\n",
        "$$ Pay-off*function: V(S,T) = \\max(K-S, 0) $$\n",
        "\n",
        "$$ Parameters: T = 1, r=0.05, K=100, S_{0}=90, \\text{ and } \\sigma = 0.2$$"
      ],
      "metadata": {
        "id": "f7CFs3pKgQ3P"
      }
    },
    {
      "cell_type": "code",
      "source": [
        "# Importing required libraries\n",
        "import numpy as np\n",
        "\n",
        "# number of samples\n",
        "n = 10000\n",
        "\n",
        "# Sampling normal distribution\n",
        "X = np.random.normal(0, 1, n)"
      ],
      "metadata": {
        "id": "OM85Jx5VgFF2"
      },
      "execution_count": 288,
      "outputs": []
    },
    {
      "cell_type": "code",
      "source": [
        "# Parameter for European style call option\n",
        "\n",
        "# maturity \n",
        "T = 1\n",
        "\n",
        "# risk free rate\n",
        "r = 0.05\n",
        "\n",
        "# strike price\n",
        "K = 100\n",
        "\n",
        "# stock price\n",
        "S0 = 90\n",
        "\n",
        "# diffusion coefficient volatility\n",
        "sig = 0.2"
      ],
      "metadata": {
        "id": "Gq_SHM-tgib_"
      },
      "execution_count": 289,
      "outputs": []
    },
    {
      "cell_type": "code",
      "source": [
        "# Defining St\n",
        "def PriceAtT2(X):\n",
        "    return S0 * np.exp((r - 1 / 2 * sig ** 2) * T + sig * np.sqrt(T) * X)"
      ],
      "metadata": {
        "id": "Uu0gAaUhgjDf"
      },
      "execution_count": 290,
      "outputs": []
    },
    {
      "cell_type": "markdown",
      "source": [
        "$$ PayOff = MAX(K - St, 0)$$"
      ],
      "metadata": {
        "id": "9nAh_suZKwDu"
      }
    },
    {
      "cell_type": "code",
      "source": [
        "# Price of European Put Option at T = 0\n",
        "Y = np.maximum(K - PriceAtT2(X), 0) * np.exp(- r * T)"
      ],
      "metadata": {
        "id": "QoYvUmcSgjbO"
      },
      "execution_count": 304,
      "outputs": []
    },
    {
      "cell_type": "markdown",
      "source": [
        "### Monte Carlo Simulation Results"
      ],
      "metadata": {
        "id": "_hrt4Dhysc25"
      }
    },
    {
      "cell_type": "code",
      "source": [
        "def Monte_Carlo_Simulation2():\n",
        "    Total_Sum = 0\n",
        "    for i in range(1000):\n",
        "        X = np.random.normal(0, 1, 10000)\n",
        "        Y = np.maximum(K - PriceAtT2(X), 0) * np.exp(- r * T)\n",
        "        Total_Sum += np.mean(Y)\n",
        "    return Total_Sum / 1000\n",
        "  \n",
        "result = Monte_Carlo_Simulation2()\n",
        "result"
      ],
      "metadata": {
        "colab": {
          "base_uri": "https://localhost:8080/"
        },
        "id": "X0ub3URv1Lj_",
        "outputId": "b77a446c-ec29-4780-88e4-7ea7552bd256"
      },
      "execution_count": 305,
      "outputs": [
        {
          "output_type": "execute_result",
          "data": {
            "text/plain": [
              "10.206868326622919"
            ]
          },
          "metadata": {},
          "execution_count": 305
        }
      ]
    },
    {
      "cell_type": "markdown",
      "source": [
        "### Using Vegas "
      ],
      "metadata": {
        "id": "fr7zk-PVNM_G"
      }
    },
    {
      "cell_type": "code",
      "source": [
        "def f3(X):\n",
        "    return max(K - S0 * np.exp((r - (1 / 2) * (sig ** 2)) * T + sig * np.sqrt(T) * X), 0)"
      ],
      "metadata": {
        "id": "1z462xPKgtym"
      },
      "execution_count": 306,
      "outputs": []
    },
    {
      "cell_type": "code",
      "source": [
        "# improting Vegas Libraries\n",
        "import vegas\n",
        "import math\n",
        "import gvar as gv\n",
        "\n",
        "# integrator for expectation values in distribution g\n",
        "g =  gv.gvar(0, 1)\n",
        "g_expval = vegas.PDFIntegrator(g)\n",
        "\n",
        "# <f3> in distribution g\n",
        "results = g_expval(f3, nitn = 5, neval = 10000)\n",
        "print(results * np.exp(- r * T))"
      ],
      "metadata": {
        "colab": {
          "base_uri": "https://localhost:8080/"
        },
        "id": "3601aiRDgtpQ",
        "outputId": "b51789d9-5e1a-42fe-f702-4e450617e729"
      },
      "execution_count": 307,
      "outputs": [
        {
          "output_type": "stream",
          "name": "stdout",
          "text": [
            "10.21416(64)\n"
          ]
        },
        {
          "output_type": "stream",
          "name": "stderr",
          "text": [
            "/usr/local/lib/python3.7/dist-packages/ipykernel_launcher.py:2: RuntimeWarning: overflow encountered in exp\n",
            "  \n"
          ]
        }
      ]
    },
    {
      "cell_type": "markdown",
      "source": [
        "### Using Scipy Integrator"
      ],
      "metadata": {
        "id": "bTNFd-vJNIt6"
      }
    },
    {
      "cell_type": "code",
      "source": [
        "def f4(X):\n",
        "    return max(K - S0 * np.exp((r - (1 / 2) * (sig ** 2)) * T + sig * np.sqrt(T) * X), 0) * (1 / np.sqrt(2 * np.pi)) * np.exp(- (1 / 2) * (X ** 2))"
      ],
      "metadata": {
        "id": "ZOdmi8p6oiP_"
      },
      "execution_count": 308,
      "outputs": []
    },
    {
      "cell_type": "code",
      "source": [
        "from scipy.integrate import quad\n",
        "def integrate():\n",
        "    return quad(f4, -np.inf, np.inf)\n",
        "\n",
        "Integral = integrate()\n",
        "Integral[0] * np.exp(- r * T)"
      ],
      "metadata": {
        "colab": {
          "base_uri": "https://localhost:8080/"
        },
        "id": "TjCliKxxOfI5",
        "outputId": "1e36c315-df92-407e-84e8-e5534a1c1821"
      },
      "execution_count": 309,
      "outputs": [
        {
          "output_type": "execute_result",
          "data": {
            "text/plain": [
              "10.214164537066113"
            ]
          },
          "metadata": {},
          "execution_count": 309
        }
      ]
    },
    {
      "cell_type": "markdown",
      "source": [
        "## The price P of the option at is given by P0 := P(S0, 0) of european style put option for single asset :- \n",
        "1. using Monte Carlo Simulation is : 10.206868326622919\n",
        "2. using Vegas Integrator is : 10.21416(64)\n",
        "3. using Scipy Integrator is : 10.214164537066113"
      ],
      "metadata": {
        "id": "7dNAu10S2vcn"
      }
    },
    {
      "cell_type": "markdown",
      "source": [
        "#################################################################################################"
      ],
      "metadata": {
        "id": "QARdy7yF3Uj-"
      }
    },
    {
      "cell_type": "markdown",
      "source": [
        "# C\n",
        "\n",
        "Multi-asset European style rainbow put on min option. It gives the holder the right to sell the minimum asset at the strike price K at expiry T. \n",
        "\n",
        "  Pay-off function: $V(S^{1}, S^{2},\\ldots S^{n}, T) = \\max\\{K - \\min(S^{1}, S^{2},\\ldots,S^{n}),0\\}$\n",
        "\n",
        "  Parameters: $T = 1, r=0.05, K=100, S^{i}_{0}=100,\\; \\rho_{ii} = 1,\\;\\rho_{ij} = 0.1, i\\neq j, \\text{ and } \\sigma_{i} = 0.2$\n",
        "\n",
        "  Compute the value of the rainbow option for two-asset(n=2) and four-asset(n=4) and compare the result with the exact solution in two-asset case."
      ],
      "metadata": {
        "id": "FwiOvMILn9-u"
      }
    },
    {
      "cell_type": "markdown",
      "source": [
        "### Two Asset European Style Put Option"
      ],
      "metadata": {
        "id": "OexQDKMoFwrA"
      }
    },
    {
      "cell_type": "code",
      "source": [
        "# Importing required libraries\n",
        "import numpy as np\n",
        "\n",
        "# number of samples\n",
        "n = 100000\n",
        "\n",
        "# Sampling 1st normal distribution\n",
        "X = np.random.normal(0, 1, n)"
      ],
      "metadata": {
        "id": "vEBvSvWpoYEy"
      },
      "execution_count": 354,
      "outputs": []
    },
    {
      "cell_type": "code",
      "source": [
        "# maturity data\n",
        "T = 1\n",
        "\n",
        "# risk free rate\n",
        "r = 0.05\n",
        "\n",
        "# strike price\n",
        "K = 100\n",
        "\n",
        "# stock price\n",
        "S = [100, 100]\n",
        "\n",
        "# volatility\n",
        "sig = 0.2"
      ],
      "metadata": {
        "id": "bGbOwpBTFnTQ"
      },
      "execution_count": 355,
      "outputs": []
    },
    {
      "cell_type": "code",
      "source": [
        "# Defining St\n",
        "def PriceAtT3(S, X):\n",
        "    return S * np.exp((r - 1 / 2 * sig ** 2) * T + sig * np.sqrt(T) * X)"
      ],
      "metadata": {
        "id": "-9WCd34xGEmP"
      },
      "execution_count": 356,
      "outputs": []
    },
    {
      "cell_type": "markdown",
      "source": [
        "### Monte Carlo Simulation Results"
      ],
      "metadata": {
        "id": "Lqycx2q9E4hY"
      }
    },
    {
      "cell_type": "code",
      "source": [
        "# Monte Carlo results\n",
        "def Monte_Carlo_Simulation3():\n",
        "    Total_Sum = 0\n",
        "    for i in range(1000):\n",
        "        X1 = np.random.normal(0, 1, 10000)\n",
        "        X2 = np.random.normal(0, 1, 10000)\n",
        "        Y = np.maximum(K - np.minimum(PriceAtT3(S[0], X1), PriceAtT3(S[1], X2)), 0)\n",
        "        Total_Sum += np.mean(Y)\n",
        "    return Total_Sum / 1000\n",
        "  \n",
        "result = Monte_Carlo_Simulation3()\n",
        "result"
      ],
      "metadata": {
        "id": "32znsfz4GrUO",
        "colab": {
          "base_uri": "https://localhost:8080/"
        },
        "outputId": "1b37dabf-d923-4006-f3ab-5bc26b07b7b4"
      },
      "execution_count": 359,
      "outputs": [
        {
          "output_type": "execute_result",
          "data": {
            "text/plain": [
              "10.164907277019806"
            ]
          },
          "metadata": {},
          "execution_count": 359
        }
      ]
    },
    {
      "cell_type": "markdown",
      "source": [
        "### Using Vegas Integrator"
      ],
      "metadata": {
        "id": "VxuMffndPYgq"
      }
    },
    {
      "cell_type": "code",
      "source": [
        "# Covariance Matrix\n",
        "Sig = np.array([0.20, 0.20])\n",
        "\n",
        "# Mean \n",
        "mean = [0, 0]\n",
        "\n",
        "# Correlation Matrix\n",
        "Rho = np.array([[1, 0.1], [0.1, 1]])"
      ],
      "metadata": {
        "id": "_xB_pBK9Bp36"
      },
      "execution_count": 360,
      "outputs": []
    },
    {
      "cell_type": "code",
      "source": [
        "def f5(X):\n",
        "  [a, b] = S * np.exp((r - (1 / 2) * (Sig ** 2)) * T + Sig * np.sqrt(T) * X)\n",
        "  q = min(a, b)\n",
        "  return max(K - q, 0)"
      ],
      "metadata": {
        "id": "yNxNdTmuPaq9"
      },
      "execution_count": 361,
      "outputs": []
    },
    {
      "cell_type": "code",
      "source": [
        "# improting Vegas Libraries\n",
        "import vegas\n",
        "import math\n",
        "import gvar as gv\n",
        "\n",
        "# integrator for expectation values in distribution g\n",
        "g =  gv.gvar(mean, Rho)\n",
        "g_expval = vegas.PDFIntegrator(g)\n",
        "\n",
        "# <f5> in distribution g\n",
        "results = g_expval(f5, nitn = 5, neval = 10000)\n",
        "print(results)"
      ],
      "metadata": {
        "colab": {
          "base_uri": "https://localhost:8080/"
        },
        "id": "nsqlaw8L42s6",
        "outputId": "663543db-8345-4da2-8ff8-ebe609af94e7"
      },
      "execution_count": 362,
      "outputs": [
        {
          "output_type": "stream",
          "name": "stdout",
          "text": [
            "9.9394(77)\n"
          ]
        }
      ]
    },
    {
      "cell_type": "markdown",
      "source": [
        "## The price P of the option at is given by P0 := P(S0, 0) of european style put option for two asset :-\n",
        "1. Using Monte Carlo :- 10.164907277019806\n",
        "2. Using Vegas Integrator :- 9.9394(77)"
      ],
      "metadata": {
        "id": "Tx-ZbC4TJo-y"
      }
    },
    {
      "cell_type": "markdown",
      "source": [
        "### Four Asset European Style Put Option"
      ],
      "metadata": {
        "id": "pvdAqFz3hwHM"
      }
    },
    {
      "cell_type": "code",
      "source": [
        "# Covariance Matrix\n",
        "Sig_2 = np.array([0.20, 0.20, 0.20, 0.20])\n",
        "\n",
        "# Mean Matrix\n",
        "mean = np.array([0, 0, 0, 0])\n",
        "\n",
        "# stock price \n",
        "S = [100, 100, 100, 100]\n",
        "\n",
        "# risk free rate\n",
        "r = 0.05\n",
        "\n",
        "# Correlation Matrix\n",
        "Rho_2 = np.array([[1, 0.1, 0.1, 0.1], [0.1, 1, 0.1, 0.1], [0.1, 0.1, 1, 0.1], [0.1, 0.1, 0.1, 1]])"
      ],
      "metadata": {
        "id": "FdvADIe5L7HJ"
      },
      "execution_count": 363,
      "outputs": []
    },
    {
      "cell_type": "code",
      "source": [
        "def f(X):\n",
        "  [a, b, c, d] = S * np.exp((r - (1 / 2) * (Sig_2 ** 2)) * T + Sig_2 * np.sqrt(T) * X)\n",
        "  q = min(min(min(a, b), c), d)\n",
        "  return max(K - q, 0)"
      ],
      "metadata": {
        "id": "ZFbz95q1hvt6"
      },
      "execution_count": 364,
      "outputs": []
    },
    {
      "cell_type": "code",
      "source": [
        "# importing Vegas Libraries\n",
        "import vegas\n",
        "import math\n",
        "import gvar as gv\n",
        "\n",
        "# integrator for expectation values in distribution g\n",
        "g = gv.gvar(mean, Rho_2)\n",
        "g_expval = vegas.PDFIntegrator(g)\n",
        "\n",
        "# <f> in distribution g\n",
        "results = g_expval(f, nitn = 5, neval = 10000)\n",
        "print(results* np.exp(- r * T))"
      ],
      "metadata": {
        "colab": {
          "base_uri": "https://localhost:8080/"
        },
        "id": "ek14O4DzhvrA",
        "outputId": "cb1a4f2f-03a7-4794-e22e-81b003cf6157"
      },
      "execution_count": 365,
      "outputs": [
        {
          "output_type": "stream",
          "name": "stdout",
          "text": [
            "14.57(13)\n"
          ]
        }
      ]
    },
    {
      "cell_type": "markdown",
      "source": [
        "## The price P of the option at is given by P0 := P(S0, 0) of european style put option for four asset :-\n",
        "1. Using Vegas Integrator : 14.57(13)"
      ],
      "metadata": {
        "id": "NVZKawgMKCAy"
      }
    }
  ]
}