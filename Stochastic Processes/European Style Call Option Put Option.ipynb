{
  "cells": [
    {
      "cell_type": "markdown",
      "source": [
        "# Course Name :- Stochastic Processes [ MTH332 ]\n",
        "# Course Instructor :- Dr. LokPati Tripathi\n",
        "## Author Name :\n",
        "          1. Nishant Kumar [ 1904123 ]\n",
        "          2. Sarthak [ 1906332 ]"
      ],
      "metadata": {
        "id": "JUAEYVAvkEIB"
      }
    },
    {
      "cell_type": "markdown",
      "source": [
        "#Assignment-3A: Monte Carlo method for pricing European style options #\n",
        "\n",
        "Apply Monte Carlo method to approximate the value of  \n",
        "\n",
        "1.   single-asset European style call option. \n",
        "\n",
        "    Pay-off function: $V(S,T) = \\max(S-K, 0)$ \n",
        "    \n",
        "    Parameters: $T = 1, r=0.05, K=100, S_{0}=110, \\text{ and } \\sigma = 0.2$\n",
        "2.   single-asset European style put option. \n",
        "\n",
        "    Pay-off function: $V(S,T) = \\max(K-S, 0)$\n",
        "\n",
        "    Parameters: $T = 1, r=0.05, K=100, S_{0}=90, \\text{ and } \\sigma = 0.2$\n",
        "3.   multi-asset European style rainbow put on min option. It gives the holder the right to sell the minimum asset at the strike price K at expiry T. \n",
        "\n",
        "  Pay-off function: $V(S^{1}, S^{2},\\ldots S^{n}, T) = \\max\\{K - \\min(S^{1}, S^{2},\\ldots,S^{n}),0\\}$\n",
        "\n",
        "  Parameters: $T = 1, r=0.05, K=100, S^{i}_{0}=100,\\; \\rho_{ii} = 1,\\;\\rho_{ij} = 0.1, i\\neq j, \\text{ and } \\sigma_{i} = 0.2$\n",
        "\n",
        "  Compute the value of the rainbow option for two-asset(n=2) and four-asset(n=4) and compare the result with the exact solution in two-asset case.\n",
        "\n",
        "Describe the results which you obtain after applying the algorithm. \n",
        "\n",
        "*Note:* Please explain clearly all the parameters, specific terms, and notations involved in your solution.\n",
        "\n",
        "\n",
        "\n",
        "\n",
        "\n",
        "\n"
      ],
      "metadata": {
        "id": "hXd34wIm0F4z"
      }
    },
    {
      "cell_type": "markdown",
      "source": [
        "# Exact Solution $V(S_{0}^1,S_{0}^2,0)=P_{min}(S_{0}^{1},\\;S_{0}^{2};\\;K)$ for two-asset put on min [ Pay-off: $\\quad\\max\\left(K-\\min(S_{1},\\;S_{2}),\\;0\\right)$]\n",
        "\n",
        "\\begin{align*}\n",
        "&P_{min}(S_{0}^{1},\\;S_{0}^{2};\\;K) := Ke^{-rT} - C_{min}(S_{0}^{1},\\;S_{0}^{2};\\;0) + C_{min}(S_{0}^{1},\\;S_{0}^{2};\\;K)\n",
        "\\end{align*}\n",
        "\n",
        "where\n",
        "\n",
        "\\begin{align*}\n",
        "&C_{min}(S_{0}^{1},\\;S_{0}^{2};\\;K) := S_{0}^{1}M(y_{1},-d;\\;-\\rho_{1})+S_{0}^{2}M(y_{2},d-\\sigma\\sqrt{T};\\;-\\rho_{2})-Ke^{-rT}M(y_{1}-\\sigma_{1}\\sqrt{T},\\;y_{2}-\\sigma_{2}\\sqrt{T};\\;\\rho)\\\\\n",
        "&C_{min}(S_{0}^{1},\\;S_{0}^{2}\\;0) :=S_{0}^{1}(1-N(d)) + S_{0}^{2}N(d-\\sigma\\sqrt{T}) \\\\\n",
        "& d:=\\frac{\\log(S_{0}^{1}/S_{0}^{2})+0.5 \\sigma^2 T}{\\sigma\\sqrt{T}}\\\\\n",
        "& y_{1}:=\\frac{\\log(S_{0}^{1}/K)+(r+0.5 \\sigma_{1}^2) T}{\\sigma_{1}\\sqrt{T}}\\\\\n",
        "& y_{2}:=\\frac{\\log(S_{0}^{2}/K)+(r+0.5 \\sigma_{2}^2) T}{\\sigma_{2}\\sqrt{T}}\\\\\n",
        "& \\sigma=\\sqrt{\\sigma_{1}^2+\\sigma_{2}^2 - 2\\rho\\sigma_{1}\\sigma_{2}}\\\\\n",
        "& \\rho_{1} = \\frac{\\sigma_{1} -\\rho\\sigma_{2}}{\\sigma}\\\\\n",
        "& \\rho_{2} = \\frac{\\sigma_{2}-\\rho\\sigma_{1}}{\\sigma}\\\\\n",
        "& N(a) = \\frac{1}{\\sqrt{2\\pi}}\\int\\limits_{-\\infty}^{a}e^{-\\frac{1}{2}x^2}dx\\\\\n",
        "& M(a,b,\\rho) = \\frac{1}{2\\pi\\sqrt{1-\\rho^2}}\\int\\limits_{-\\infty}^{b}\\int\\limits_{-\\infty}^{a} e^{-\\frac{1}{2}\\left[\\frac{x^2 - 2\\rho x y + y^2}{1-\\rho^2}\\right]}\\;dxdy\n",
        "\\end{align*}\n",
        "\n",
        "\n",
        "\n"
      ],
      "metadata": {
        "id": "WTL1TXxQAEDu"
      }
    },
    {
      "cell_type": "code",
      "execution_count": 12,
      "metadata": {
        "id": "MNKnpnhK2x7S"
      },
      "outputs": [],
      "source": [
        "import numpy as np\n",
        "from scipy import log, exp, sqrt, stats\n",
        "from scipy.stats import norm\n",
        "from scipy import integrate\n",
        "import math"
      ]
    },
    {
      "cell_type": "markdown",
      "metadata": {
        "id": "A5oIsuxh2x7W"
      },
      "source": [
        "## Single Asset Case : Call and Put Option Value "
      ]
    },
    {
      "cell_type": "code",
      "execution_count": 48,
      "metadata": {
        "colab": {
          "base_uri": "https://localhost:8080/"
        },
        "id": "xsOxfaud2x7Y",
        "outputId": "22fae996-3756-4f8b-e99e-bb085bc51516"
      },
      "outputs": [
        {
          "output_type": "stream",
          "name": "stdout",
          "text": [
            "The value of Call option is: 17.65758290524804\n",
            "The value of Put option is: 10.218231120141791\n"
          ]
        }
      ],
      "source": [
        "def Asset_Value(Nsteps, S0, K, T, r, sigma, option):\n",
        "    # Generate a random number\n",
        "    z = np.random.normal(0, 1, Nsteps)\n",
        "    # Calculate the stock price\n",
        "    S = S0 * np.exp((r - 0.5 * sigma ** 2) * T + sigma * np.sqrt(T) * z)\n",
        "    # print(S)\n",
        "    # Calculate the payoff\n",
        "    Payoff=np.zeros(Nsteps)\n",
        "    if option == 'call':\n",
        "      Payoff = np.maximum(S - K, 0) * np.exp(- r * T)\n",
        "    elif option == 'put':\n",
        "      Payoff = np.maximum(K - S, 0) * np.exp(- r * T)\n",
        "    return Payoff\n",
        "\n",
        "def Simulation(Nsteps, Nsimulations, S0, K, T, r, sigma, option):\n",
        "    V = np.zeros((Nsimulations, Nsteps))\n",
        "    for i in range(Nsimulations):\n",
        "        V[i, :] = Asset_Value(Nsteps, S0, K, T, r, sigma, option)\n",
        "    return V\n",
        "def Option_Value(Nsteps, Nsimulations, S0, K, T, r, sigma, option):\n",
        "    V = Simulation(Nsteps, Nsimulations, S0, K, T, r, sigma, option)\n",
        "    # print(V)\n",
        "    # V=np.mean(V,axis=1)\n",
        "    # print(V)\n",
        "    V_Call = np.mean(V)\n",
        "    return V_Call\n",
        "\n",
        "# Parameters:  T=1,r=0.05,K=100,S0=110, and σ=0.2 for Call option\n",
        "Call_Option_Val= Option_Value(Nsteps=10000, Nsimulations=100, S0=110, K=100, T=1, r=0.05, sigma=0.2, option='call')\n",
        "\n",
        "\n",
        "# Parameters:  T=1,r=0.05,K=100,S0=90, and σ=0.2 for Put Option\n",
        "Put_Option_Val=Option_Value(Nsteps=10000, Nsimulations=100, S0=90, K=100, T=1, r=0.05, sigma=0.2, option='put')\n",
        "\n",
        "print('The value of Call option is:',Call_Option_Val)\n",
        "print('The value of Put option is:',Put_Option_Val)\n"
      ]
    },
    {
      "cell_type": "code",
      "execution_count": 44,
      "metadata": {
        "id": "qHDnfyGV2x7a"
      },
      "outputs": [],
      "source": [
        "# Compute the value of the rainbow option for two-asset(n=2) and four-asset(n=4) and compare the result with the exact solution in two-asset case.\n",
        "\n",
        "# Describe the results which you obtain after applying the algorithm.\n",
        "\n",
        "# Note: Please explain clearly all the parameters, specific terms, and notations involved in your solution.\n",
        "def Multi_Asset_Value(Nassets, Nsteps, Nsimulations, S0, K, T, r, sigma, option):\n",
        "    \n",
        "    # Calculate the stock price\n",
        "    S = np.zeros((Nassets, Nsteps))\n",
        "    z = np.random.normal(0, 1)\n",
        "    for i in range(Nassets):\n",
        "        # Generate a random number\n",
        "        \n",
        "        S[i, :] = S0[i] * np.exp((r[i] - 0.5 * sigma[i] ** 2) * T + sigma[i] * np.sqrt(T) * z)\n",
        "    # print(S)\n",
        "    # Calculate the payoff\n",
        "    Payoff = np.zeros((Nassets, Nsteps))\n",
        "    if option == 'call': \n",
        "        # minimum of two assets column wise\n",
        "        maxS = np.max(S, axis = 0)\n",
        "        Payoff = np.maximum(maxS - K, 0)\n",
        "    elif option == 'put':\n",
        "        # minimum of two assets column wise\n",
        "        minS = np.min(S, axis = 0)\n",
        "        Payoff = np.maximum(K - minS, 0)\n",
        "    return Payoff\n",
        "\n",
        "def Multi_Simulation(Nassets, Nsteps, Nsimulations, S0, K, T, r, sigma, option):\n",
        "    V = np.zeros((Nsimulations, Nsteps))\n",
        "    for i in range(Nsimulations):\n",
        "        V[i, :] = Multi_Asset_Value(Nassets, Nsteps, Nsimulations, S0, K, T, r, sigma, option)\n",
        "    return V\n",
        "\n",
        "def Multi_Option_Value(Nassets, Nsteps, Nsimulations, S0, K, T, r, sigma, option):\n",
        "    V = Multi_Simulation(Nassets, Nsteps, Nsimulations, S0, K, T, r, sigma, option)\n",
        "    # print(V)\n",
        "    # V=np.mean(V,axis=1)\n",
        "    # print(V)\n",
        "    V_Call = exp(-r[0]*T)*np.mean(V)\n",
        "    return V_Call"
      ]
    },
    {
      "cell_type": "markdown",
      "metadata": {
        "id": "Yh5JiPZ22x7b"
      },
      "source": [
        "## Two Asset Case, and using cholesky decomposition"
      ]
    },
    {
      "cell_type": "code",
      "execution_count": 46,
      "metadata": {
        "colab": {
          "base_uri": "https://localhost:8080/"
        },
        "id": "ZhFw0mhc2x7b",
        "outputId": "47f70f4a-b39c-4c60-ba15-3632e032dc30"
      },
      "outputs": [
        {
          "output_type": "stream",
          "name": "stdout",
          "text": [
            "The value of Call option for 2-Asset case is: 10.660013908753907\n"
          ]
        },
        {
          "output_type": "stream",
          "name": "stderr",
          "text": [
            "/usr/local/lib/python3.7/dist-packages/ipykernel_launcher.py:37: DeprecationWarning: scipy.exp is deprecated and will be removed in SciPy 2.0.0, use numpy.exp instead\n"
          ]
        }
      ],
      "source": [
        "# Two Asset Case Parameter are :\n",
        "# Parameters for 2 Asset:  T = 1, r = 0.05, K = 100, Si0 = 100, ρii = 1, ρij = 0.1, i ≠ j, and σi = 0.2\n",
        "# Let do decomposition of Covarinace Matrix σi(pij)σj\n",
        "# Sigma is a 2x2 matrix, having sigma_i and sigma_j\n",
        "Sigma = [0.20, 0.20]\n",
        "\n",
        "# Rho is a 2x2 matrix, having rho_i and rho_j\n",
        "Rho = np.array([[1,0.1], [0.1, 1]])\n",
        "\n",
        "# Sigma_Rho is multiplication of Sigma and Rho\n",
        "Sigma_Rho = 0.04 * Rho\n",
        "\n",
        "# L is the Cholesky decomposition of Sigma_Rho\n",
        "L = np.linalg.cholesky(Sigma_Rho)\n",
        "\n",
        "# Now we find the New_Sigma_Rho that will be passed to the Multi_Option_Value function\n",
        "# For First Asset, It is L[0,0]\n",
        "# For Second Asset, It is L[1,0] + L[1,1]\n",
        "New_Sigma_Rho = np.array([L[0, 0], L[1, 0] + L[1, 1]])\n",
        "\n",
        "# print(New_Sigma_Rho)\n",
        "# Now we will pass the new sigma value in the Multi_Option_Value function\n",
        "Multi_Option_Value_for_2_AssetCase = Multi_Option_Value(Nassets=2, Nsteps=10000, Nsimulations=500, S0=[100, 100], K=100, T=1, r=[0.05, 0.05], sigma=New_Sigma_Rho, option='put')\n",
        "print('The value of Call option for 2-Asset case is:', Multi_Option_Value_for_2_AssetCase)\n"
      ]
    },
    {
      "cell_type": "markdown",
      "metadata": {
        "id": "dZ01e1LA2x7c"
      },
      "source": [
        "## Four Asset Case, and using cholesky decomposition"
      ]
    },
    {
      "cell_type": "code",
      "execution_count": 45,
      "metadata": {
        "colab": {
          "base_uri": "https://localhost:8080/"
        },
        "id": "O8m1z-y12x7d",
        "outputId": "6807f1b5-4878-4c12-df2b-d4e18c7a8ea2"
      },
      "outputs": [
        {
          "output_type": "stream",
          "name": "stdout",
          "text": [
            "The value of Call option for 4-Asset case is: 16.875149906941903\n"
          ]
        },
        {
          "output_type": "stream",
          "name": "stderr",
          "text": [
            "/usr/local/lib/python3.7/dist-packages/ipykernel_launcher.py:37: DeprecationWarning: scipy.exp is deprecated and will be removed in SciPy 2.0.0, use numpy.exp instead\n"
          ]
        }
      ],
      "source": [
        "# Four Asset Case Parameter are :\n",
        "# Parameters for 4 Asset:  T=1,r=0.05,K=100,Si0=100,ρii=1,ρij=0.1,i≠j, and σi=0.2# Let do decomposition of Covarinace Matrix σi(pij)σj\n",
        "# Sigma_2 is a 4x1 matrix, having sigma_i and sigma_j\n",
        "Sigma_2 = [0.2, 0.2, 0.2, 0.2]\n",
        "\n",
        "# Rho_2 is a 2x2 matrix, having rho_i and rho_j\n",
        "Rho_2 = np.array([[1, 0.1, 0.1, 0.1], [0.1, 1, 0.1, 0.1], [0.1, 0.1, 1, 0.1], [0.1, 0.1, 0.1, 1]])\n",
        "\n",
        "# print(Rho_2)\n",
        "# Sigma_Rho_2 is multiplication of Sigma and Rho\n",
        "Sigma_Rho = 0.04 * Rho_2\n",
        "\n",
        "# print(Sigma_Rho_2)\n",
        "# L is the Cholesky decomposition of Sigma_Rho_2\n",
        "L = np.linalg.cholesky(Sigma_Rho)\n",
        "\n",
        "# Now we find the New_Sigma_Rho_2 that will be passed to the Multi_Option_Value function\n",
        "# For First Asset, It is L[0, 0]\n",
        "# For Second Asset, It is L[1, 0] + L[1, 1]\n",
        "New_Sigma_Rho_2 = np.array([L[0, 0], L[1, 0] + L[1, 1], L[2, 0] + L[2, 1] + L[2, 2], L[3, 0] + L[3, 1] + L[3, 2] + L[3, 3]])\n",
        "\n",
        "# print(New_Sigma_Rho_2)\n",
        "# Now we will pass the new sigma value in the Multi_Option_Value function\n",
        "Multi_Option_Value_for_4_AssetCase=Multi_Option_Value(Nassets=4, Nsteps=100000, Nsimulations=100, S0=[100, 100, 100, 100], K=100, T=1, r=[0.05, 0.05, 0.05, 0.05], sigma=New_Sigma_Rho_2, option='put')\n",
        "\n",
        "print('The value of Call option for 4-Asset case is:',Multi_Option_Value_for_4_AssetCase)"
      ]
    },
    {
      "cell_type": "markdown",
      "source": [
        "### Exact Solution for two asset case"
      ],
      "metadata": {
        "id": "mxfFagmrsCJM"
      }
    },
    {
      "cell_type": "code",
      "execution_count": 19,
      "metadata": {
        "id": "vdXRnzNK2x7e",
        "colab": {
          "base_uri": "https://localhost:8080/"
        },
        "outputId": "b9d8782e-33aa-48eb-b262-3ba09a7f813c"
      },
      "outputs": [
        {
          "output_type": "execute_result",
          "data": {
            "text/plain": [
              "9.456744521453839"
            ]
          },
          "metadata": {},
          "execution_count": 19
        }
      ],
      "source": [
        "# Exact Solution \n",
        "# The exact solution is given by the following formula:\n",
        "def Exact_Sol(K, r, T, S0, sigma1, sigma2, rho):\n",
        "    \n",
        "    sigma = np.sqrt(sigma1**2 + sigma2**2 -2*rho*sigma1*sigma2)\n",
        "    d = (np.log(S0/S0)+(0.5* sigma**2 *T))/ (sigma*np.sqrt(T))\n",
        "    \n",
        "    rho1 = (sigma1 - rho*sigma2)/sigma\n",
        "    rho2 = (sigma2 - rho*sigma1)/ sigma\n",
        "    \n",
        "    y1 = (np.log(S0/K)+((r + 0.5* sigma1**2)*T))/(sigma1*np.sqrt(T))\n",
        "    y2 = (np.log(S0/K)+((r + 0.5* sigma2**2)*T))/(sigma2*np.sqrt(T))\n",
        "\n",
        "    Cmin_K = S0* M(y1, -d, -rho1) + S0* M(y2, d-sigma*np.sqrt(T), -rho2) - K* (math.exp(-r*T))*M(y1-sigma1*np.sqrt(T), y2 - sigma2*np.sqrt(T), rho)\n",
        "    Cmin_0 = S0*(1-N(d)) + S0*N(d-sigma*np.sqrt(T))\n",
        "    \n",
        "    P_K = K*np.exp(-r*T) - Cmin_0 + Cmin_K\n",
        "    return P_K \n",
        "\n",
        "def M(a, b, rho):\n",
        "    f = lambda y, x: np.exp(((x**2-2*rho*x*y+ y**2) * -0.5)/(1-rho**2)) * (1/(2*math.pi*math.sqrt(1-rho**2)))\n",
        "    I = integrate.dblquad(f, -math.inf,a,  lambda x: -math.inf, lambda x: b)\n",
        "    return I[0]\n",
        "\n",
        "def N(a):\n",
        "    value = norm.cdf(a)\n",
        "    return value\n",
        "\n",
        "Exact_Sol(100, 0.05, 1, 100, 0.2, 0.2, 0.1)"
      ]
    }
  ],
  "metadata": {
    "interpreter": {
      "hash": "2be5faf79681da6f2a61fdfdd5405d65d042280f7fba6178067603e3a2925119"
    },
    "kernelspec": {
      "display_name": "Python 3.10.0 64-bit",
      "language": "python",
      "name": "python3"
    },
    "language_info": {
      "codemirror_mode": {
        "name": "ipython",
        "version": 3
      },
      "file_extension": ".py",
      "mimetype": "text/x-python",
      "name": "python",
      "nbconvert_exporter": "python",
      "pygments_lexer": "ipython3",
      "version": "3.10.0"
    },
    "orig_nbformat": 4,
    "colab": {
      "name": "3a.ipynb",
      "provenance": []
    }
  },
  "nbformat": 4,
  "nbformat_minor": 0
}