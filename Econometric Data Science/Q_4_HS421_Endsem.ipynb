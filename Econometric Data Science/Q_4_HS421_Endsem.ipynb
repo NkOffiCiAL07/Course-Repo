{
  "nbformat": 4,
  "nbformat_minor": 0,
  "metadata": {
    "colab": {
      "name": "Q_4_HS421_Endsem.ipynb",
      "provenance": [],
      "collapsed_sections": [
        "FJd7n_s6RhS_",
        "xXcGrAfUR8Iv",
        "mqX5w8kMwD0-",
        "ciBMj5tRxibH"
      ]
    },
    "kernelspec": {
      "name": "python3",
      "display_name": "Python 3"
    },
    "language_info": {
      "name": "python"
    }
  },
  "cells": [
    {
      "cell_type": "markdown",
      "metadata": {
        "id": "LO2gkApddFhs"
      },
      "source": [
        "# Econometric Data Science ( HS 421 )\n",
        "### *Instructor* : Dr. Sunil Paul\n",
        "\n",
        "## End Semester assessment: **Question 4**\n",
        "\n",
        "### Authors ( Group 12 )\n",
        "- Sanjay Marreddi\n",
        "- Rishabh Tripathi\n",
        "- Nishant Kumar\n",
        "- Yash Narnaware\n"
      ]
    },
    {
      "cell_type": "markdown",
      "metadata": {
        "id": "FJd7n_s6RhS_"
      },
      "source": [
        "### **1. Develop a suitable regression model to explain the growth rate of income using one or more of the variables from the dataset and interpret your results.**"
      ]
    },
    {
      "cell_type": "markdown",
      "metadata": {
        "id": "7rHpMPA7kM9s"
      },
      "source": [
        "To develop a regression model that can explain the growth rate of Income `gdpgr` in a better way, Lets start with **Data Analysis**, followed by **OLS Model** & incrementally develop a better regression Model, say **Quantile Regression Model**. "
      ]
    },
    {
      "cell_type": "code",
      "metadata": {
        "id": "FNaSE4KU0z8D",
        "colab": {
          "base_uri": "https://localhost:8080/"
        },
        "outputId": "23ad4e3f-7099-4bc2-b595-3b475901dbd2"
      },
      "source": [
        "# Importing the required libraries\n",
        "import numpy as np\n",
        "import pandas as pd  \n",
        "import seaborn as sns \n",
        "import statsmodels.api as sm\n",
        "import matplotlib.pyplot as plt \n",
        "import statsmodels.formula.api as smf\n",
        "import statsmodels.regression.quantile_regression as Q_reg\n",
        "\n",
        "from sklearn import metrics\n",
        "from statsmodels.compat import lzip\n",
        "from sklearn.linear_model import LinearRegression\n",
        "from sklearn.model_selection import train_test_split\n",
        "from sklearn.metrics import mean_squared_error, r2_score\n",
        "from statsmodels.stats.diagnostic import het_white, het_breuschpagan\n",
        "\n",
        "%matplotlib inline"
      ],
      "execution_count": null,
      "outputs": [
        {
          "output_type": "stream",
          "text": [
            "/usr/local/lib/python3.7/dist-packages/statsmodels/tools/_testing.py:19: FutureWarning: pandas.util.testing is deprecated. Use the functions in the public API at pandas.testing instead.\n",
            "  import pandas.util.testing as tm\n"
          ],
          "name": "stderr"
        }
      ]
    },
    {
      "cell_type": "code",
      "metadata": {
        "id": "6qBSR1x9Rph3",
        "colab": {
          "base_uri": "https://localhost:8080/"
        },
        "outputId": "724e11d3-a2b3-4108-96b0-ff13d50ca76c"
      },
      "source": [
        "# Reading the provided file\n",
        "Input_df = pd.read_excel('Q4.xlsx')\n",
        "Input_df.head()"
      ],
      "execution_count": null,
      "outputs": [
        {
          "output_type": "execute_result",
          "data": {
            "text/html": [
              "<div>\n",
              "<style scoped>\n",
              "    .dataframe tbody tr th:only-of-type {\n",
              "        vertical-align: middle;\n",
              "    }\n",
              "\n",
              "    .dataframe tbody tr th {\n",
              "        vertical-align: top;\n",
              "    }\n",
              "\n",
              "    .dataframe thead th {\n",
              "        text-align: right;\n",
              "    }\n",
              "</style>\n",
              "<table border=\"1\" class=\"dataframe\">\n",
              "  <thead>\n",
              "    <tr style=\"text-align: right;\">\n",
              "      <th></th>\n",
              "      <th>country</th>\n",
              "      <th>gdp60vus</th>\n",
              "      <th>gdpgr</th>\n",
              "      <th>noneqinv</th>\n",
              "      <th>equipinv</th>\n",
              "      <th>lfgr6085</th>\n",
              "      <th>continent</th>\n",
              "    </tr>\n",
              "  </thead>\n",
              "  <tbody>\n",
              "    <tr>\n",
              "      <th>0</th>\n",
              "      <td>Tanzania</td>\n",
              "      <td>-3.909975</td>\n",
              "      <td>0.027319</td>\n",
              "      <td>0.1656</td>\n",
              "      <td>0.0149</td>\n",
              "      <td>0.027268</td>\n",
              "      <td>1</td>\n",
              "    </tr>\n",
              "    <tr>\n",
              "      <th>1</th>\n",
              "      <td>Ethiopia</td>\n",
              "      <td>-3.874197</td>\n",
              "      <td>0.013414</td>\n",
              "      <td>0.0488</td>\n",
              "      <td>0.0060</td>\n",
              "      <td>0.020364</td>\n",
              "      <td>1</td>\n",
              "    </tr>\n",
              "    <tr>\n",
              "      <th>2</th>\n",
              "      <td>Lesotho</td>\n",
              "      <td>-3.655754</td>\n",
              "      <td>0.056505</td>\n",
              "      <td>NaN</td>\n",
              "      <td>NaN</td>\n",
              "      <td>0.017348</td>\n",
              "      <td>1</td>\n",
              "    </tr>\n",
              "    <tr>\n",
              "      <th>3</th>\n",
              "      <td>Burma</td>\n",
              "      <td>-3.501836</td>\n",
              "      <td>0.026965</td>\n",
              "      <td>NaN</td>\n",
              "      <td>NaN</td>\n",
              "      <td>0.020524</td>\n",
              "      <td>2</td>\n",
              "    </tr>\n",
              "    <tr>\n",
              "      <th>4</th>\n",
              "      <td>Uganda</td>\n",
              "      <td>-3.493806</td>\n",
              "      <td>0.007123</td>\n",
              "      <td>0.0371</td>\n",
              "      <td>0.0048</td>\n",
              "      <td>0.030981</td>\n",
              "      <td>1</td>\n",
              "    </tr>\n",
              "  </tbody>\n",
              "</table>\n",
              "</div>"
            ],
            "text/plain": [
              "    country  gdp60vus     gdpgr  noneqinv  equipinv  lfgr6085  continent\n",
              "0  Tanzania -3.909975  0.027319    0.1656    0.0149  0.027268          1\n",
              "1  Ethiopia -3.874197  0.013414    0.0488    0.0060  0.020364          1\n",
              "2   Lesotho -3.655754  0.056505       NaN       NaN  0.017348          1\n",
              "3     Burma -3.501836  0.026965       NaN       NaN  0.020524          2\n",
              "4    Uganda -3.493806  0.007123    0.0371    0.0048  0.030981          1"
            ]
          },
          "metadata": {
            "tags": []
          },
          "execution_count": 2
        }
      ]
    },
    {
      "cell_type": "code",
      "metadata": {
        "colab": {
          "base_uri": "https://localhost:8080/"
        },
        "id": "L8a8Lhx6k8Ps",
        "outputId": "a4d3a150-1ddd-4cae-b6ae-38e900cfa4ff"
      },
      "source": [
        "# Examining the data\n",
        "Input_df.info()"
      ],
      "execution_count": null,
      "outputs": [
        {
          "output_type": "stream",
          "text": [
            "<class 'pandas.core.frame.DataFrame'>\n",
            "RangeIndex: 106 entries, 0 to 105\n",
            "Data columns (total 7 columns):\n",
            " #   Column     Non-Null Count  Dtype  \n",
            "---  ------     --------------  -----  \n",
            " 0   country    106 non-null    object \n",
            " 1   gdp60vus   106 non-null    float64\n",
            " 2   gdpgr      106 non-null    float64\n",
            " 3   noneqinv   88 non-null     float64\n",
            " 4   equipinv   88 non-null     float64\n",
            " 5   lfgr6085   106 non-null    float64\n",
            " 6   continent  106 non-null    int64  \n",
            "dtypes: float64(5), int64(1), object(1)\n",
            "memory usage: 5.9+ KB\n"
          ],
          "name": "stdout"
        }
      ]
    },
    {
      "cell_type": "code",
      "metadata": {
        "colab": {
          "base_uri": "https://localhost:8080/"
        },
        "id": "pqus-G3XRsdZ",
        "outputId": "de76d8f7-3dd5-4581-f018-69bc1811a762"
      },
      "source": [
        "# Filling the Missing (NaN) Values\n",
        "Input_df = Input_df.interpolate()\n",
        "Input_df.head()"
      ],
      "execution_count": null,
      "outputs": [
        {
          "output_type": "execute_result",
          "data": {
            "text/html": [
              "<div>\n",
              "<style scoped>\n",
              "    .dataframe tbody tr th:only-of-type {\n",
              "        vertical-align: middle;\n",
              "    }\n",
              "\n",
              "    .dataframe tbody tr th {\n",
              "        vertical-align: top;\n",
              "    }\n",
              "\n",
              "    .dataframe thead th {\n",
              "        text-align: right;\n",
              "    }\n",
              "</style>\n",
              "<table border=\"1\" class=\"dataframe\">\n",
              "  <thead>\n",
              "    <tr style=\"text-align: right;\">\n",
              "      <th></th>\n",
              "      <th>country</th>\n",
              "      <th>gdp60vus</th>\n",
              "      <th>gdpgr</th>\n",
              "      <th>noneqinv</th>\n",
              "      <th>equipinv</th>\n",
              "      <th>lfgr6085</th>\n",
              "      <th>continent</th>\n",
              "    </tr>\n",
              "  </thead>\n",
              "  <tbody>\n",
              "    <tr>\n",
              "      <th>0</th>\n",
              "      <td>Tanzania</td>\n",
              "      <td>-3.909975</td>\n",
              "      <td>0.027319</td>\n",
              "      <td>0.1656</td>\n",
              "      <td>0.0149</td>\n",
              "      <td>0.027268</td>\n",
              "      <td>1</td>\n",
              "    </tr>\n",
              "    <tr>\n",
              "      <th>1</th>\n",
              "      <td>Ethiopia</td>\n",
              "      <td>-3.874197</td>\n",
              "      <td>0.013414</td>\n",
              "      <td>0.0488</td>\n",
              "      <td>0.0060</td>\n",
              "      <td>0.020364</td>\n",
              "      <td>1</td>\n",
              "    </tr>\n",
              "    <tr>\n",
              "      <th>2</th>\n",
              "      <td>Lesotho</td>\n",
              "      <td>-3.655754</td>\n",
              "      <td>0.056505</td>\n",
              "      <td>0.0449</td>\n",
              "      <td>0.0056</td>\n",
              "      <td>0.017348</td>\n",
              "      <td>1</td>\n",
              "    </tr>\n",
              "    <tr>\n",
              "      <th>3</th>\n",
              "      <td>Burma</td>\n",
              "      <td>-3.501836</td>\n",
              "      <td>0.026965</td>\n",
              "      <td>0.0410</td>\n",
              "      <td>0.0052</td>\n",
              "      <td>0.020524</td>\n",
              "      <td>2</td>\n",
              "    </tr>\n",
              "    <tr>\n",
              "      <th>4</th>\n",
              "      <td>Uganda</td>\n",
              "      <td>-3.493806</td>\n",
              "      <td>0.007123</td>\n",
              "      <td>0.0371</td>\n",
              "      <td>0.0048</td>\n",
              "      <td>0.030981</td>\n",
              "      <td>1</td>\n",
              "    </tr>\n",
              "  </tbody>\n",
              "</table>\n",
              "</div>"
            ],
            "text/plain": [
              "    country  gdp60vus     gdpgr  noneqinv  equipinv  lfgr6085  continent\n",
              "0  Tanzania -3.909975  0.027319    0.1656    0.0149  0.027268          1\n",
              "1  Ethiopia -3.874197  0.013414    0.0488    0.0060  0.020364          1\n",
              "2   Lesotho -3.655754  0.056505    0.0449    0.0056  0.017348          1\n",
              "3     Burma -3.501836  0.026965    0.0410    0.0052  0.020524          2\n",
              "4    Uganda -3.493806  0.007123    0.0371    0.0048  0.030981          1"
            ]
          },
          "metadata": {
            "tags": []
          },
          "execution_count": 4
        }
      ]
    },
    {
      "cell_type": "code",
      "metadata": {
        "colab": {
          "base_uri": "https://localhost:8080/"
        },
        "id": "7kgLkwP04h3_",
        "outputId": "234cf1e3-5ca4-4052-de73-c721fa300450"
      },
      "source": [
        "# Getting an overview of data\n",
        "Input_df.describe()"
      ],
      "execution_count": null,
      "outputs": [
        {
          "output_type": "execute_result",
          "data": {
            "text/html": [
              "<div>\n",
              "<style scoped>\n",
              "    .dataframe tbody tr th:only-of-type {\n",
              "        vertical-align: middle;\n",
              "    }\n",
              "\n",
              "    .dataframe tbody tr th {\n",
              "        vertical-align: top;\n",
              "    }\n",
              "\n",
              "    .dataframe thead th {\n",
              "        text-align: right;\n",
              "    }\n",
              "</style>\n",
              "<table border=\"1\" class=\"dataframe\">\n",
              "  <thead>\n",
              "    <tr style=\"text-align: right;\">\n",
              "      <th></th>\n",
              "      <th>gdp60vus</th>\n",
              "      <th>gdpgr</th>\n",
              "      <th>noneqinv</th>\n",
              "      <th>equipinv</th>\n",
              "      <th>lfgr6085</th>\n",
              "      <th>continent</th>\n",
              "    </tr>\n",
              "  </thead>\n",
              "  <tbody>\n",
              "    <tr>\n",
              "      <th>count</th>\n",
              "      <td>106.000000</td>\n",
              "      <td>106.000000</td>\n",
              "      <td>106.000000</td>\n",
              "      <td>106.000000</td>\n",
              "      <td>106.000000</td>\n",
              "      <td>106.000000</td>\n",
              "    </tr>\n",
              "    <tr>\n",
              "      <th>mean</th>\n",
              "      <td>-1.870546</td>\n",
              "      <td>0.020892</td>\n",
              "      <td>0.137481</td>\n",
              "      <td>0.038991</td>\n",
              "      <td>0.020574</td>\n",
              "      <td>2.716981</td>\n",
              "    </tr>\n",
              "    <tr>\n",
              "      <th>std</th>\n",
              "      <td>0.956000</td>\n",
              "      <td>0.017428</td>\n",
              "      <td>0.056523</td>\n",
              "      <td>0.033006</td>\n",
              "      <td>0.008205</td>\n",
              "      <td>1.855518</td>\n",
              "    </tr>\n",
              "    <tr>\n",
              "      <th>min</th>\n",
              "      <td>-3.909975</td>\n",
              "      <td>-0.022270</td>\n",
              "      <td>0.029900</td>\n",
              "      <td>0.000200</td>\n",
              "      <td>0.001391</td>\n",
              "      <td>1.000000</td>\n",
              "    </tr>\n",
              "    <tr>\n",
              "      <th>25%</th>\n",
              "      <td>-2.539188</td>\n",
              "      <td>0.009980</td>\n",
              "      <td>0.100825</td>\n",
              "      <td>0.012850</td>\n",
              "      <td>0.015390</td>\n",
              "      <td>1.000000</td>\n",
              "    </tr>\n",
              "    <tr>\n",
              "      <th>50%</th>\n",
              "      <td>-1.835132</td>\n",
              "      <td>0.019285</td>\n",
              "      <td>0.136975</td>\n",
              "      <td>0.029050</td>\n",
              "      <td>0.020640</td>\n",
              "      <td>2.000000</td>\n",
              "    </tr>\n",
              "    <tr>\n",
              "      <th>75%</th>\n",
              "      <td>-1.077530</td>\n",
              "      <td>0.032604</td>\n",
              "      <td>0.173130</td>\n",
              "      <td>0.059490</td>\n",
              "      <td>0.027112</td>\n",
              "      <td>4.000000</td>\n",
              "    </tr>\n",
              "    <tr>\n",
              "      <th>max</th>\n",
              "      <td>0.000000</td>\n",
              "      <td>0.075709</td>\n",
              "      <td>0.280300</td>\n",
              "      <td>0.148200</td>\n",
              "      <td>0.037067</td>\n",
              "      <td>6.000000</td>\n",
              "    </tr>\n",
              "  </tbody>\n",
              "</table>\n",
              "</div>"
            ],
            "text/plain": [
              "         gdp60vus       gdpgr    noneqinv    equipinv    lfgr6085   continent\n",
              "count  106.000000  106.000000  106.000000  106.000000  106.000000  106.000000\n",
              "mean    -1.870546    0.020892    0.137481    0.038991    0.020574    2.716981\n",
              "std      0.956000    0.017428    0.056523    0.033006    0.008205    1.855518\n",
              "min     -3.909975   -0.022270    0.029900    0.000200    0.001391    1.000000\n",
              "25%     -2.539188    0.009980    0.100825    0.012850    0.015390    1.000000\n",
              "50%     -1.835132    0.019285    0.136975    0.029050    0.020640    2.000000\n",
              "75%     -1.077530    0.032604    0.173130    0.059490    0.027112    4.000000\n",
              "max      0.000000    0.075709    0.280300    0.148200    0.037067    6.000000"
            ]
          },
          "metadata": {
            "tags": []
          },
          "execution_count": 5
        }
      ]
    },
    {
      "cell_type": "markdown",
      "metadata": {
        "id": "Syi_MOmbmKgN"
      },
      "source": [
        "Now, Let us perform **OLS** on the Input data & see what conclusions can be drawn. Let `gdpgr` be Y.\n",
        "\n",
        "`Y = B0 + B1*gdp60vus + B2*noneqinv + B3*equipinv + B4*lfgr6085 +  error`"
      ]
    },
    {
      "cell_type": "code",
      "metadata": {
        "id": "WikwyATh8NmL"
      },
      "source": [
        "# Grabbing the Values of the Independent & Dependent Variables into arrays.\n",
        "X = Input_df[['gdp60vus', 'noneqinv','equipinv', 'lfgr6085']]\n",
        "Y = Input_df[['gdpgr']].values\n",
        "\n",
        "# Splitting the Data into Training & Testing sets.\n",
        "X_train, X_test, Y_train, Y_test = train_test_split(X, Y, test_size = 0.05, random_state=2)"
      ],
      "execution_count": null,
      "outputs": []
    },
    {
      "cell_type": "code",
      "metadata": {
        "id": "XgMYsoYkmov7"
      },
      "source": [
        "# Instatiating and fitting the Training data into the model.\n",
        "OLS = LinearRegression()\n",
        "OLS.fit(X_train,Y_train)\n",
        "\n",
        "# Making prediction on Testing data.\n",
        "predicted_values = OLS.predict(X_test)"
      ],
      "execution_count": null,
      "outputs": []
    },
    {
      "cell_type": "code",
      "metadata": {
        "colab": {
          "base_uri": "https://localhost:8080/"
        },
        "id": "zndM54ram4lL",
        "outputId": "d331616a-7632-49df-e420-bda477ca7e02"
      },
      "source": [
        "# Making a list of the Parameters estimated by the model.\n",
        "Beta_values_list = list(OLS.intercept_)\n",
        "Beta_values_list = Beta_values_list + list(OLS.coef_[0])\n",
        "\n",
        "# Printing the Values of the estimated Parameters.\n",
        "for i in range(len(Beta_values_list)):\n",
        "  print(\"β\"+ str(i)+ \" --> \" + str(Beta_values_list[i]) )\n",
        "\n",
        "# Printing the results of Evaluation metrics for the model.\n",
        "print(\"r2-score --> \", r2_score(Y_test, predicted_values))\n",
        "print(\"Mean absolute error --> \",np.mean(Y_test-predicted_values))"
      ],
      "execution_count": null,
      "outputs": [
        {
          "output_type": "stream",
          "text": [
            "β0 --> -0.01198535076944135\n",
            "β1 --> -0.007999405843690445\n",
            "β2 --> 0.07829563656374605\n",
            "β3 --> 0.2587080955669804\n",
            "β4 --> -0.13342046883947395\n",
            "r2-score -->  0.4335168327858683\n",
            "Mean absolute error -->  -0.003394128445233757\n"
          ],
          "name": "stdout"
        }
      ]
    },
    {
      "cell_type": "code",
      "metadata": {
        "colab": {
          "base_uri": "https://localhost:8080/"
        },
        "id": "Zgvxiex_8No2",
        "outputId": "f31eaecc-06a8-4163-82c2-178216f99e38"
      },
      "source": [
        "# Plotting the coefficients in descending order\n",
        "w = pd.DataFrame()\n",
        "w['Var'] = X_train.columns\n",
        "w = w.set_index('Var') # Set the variable names as the index\n",
        "w['beta'] = OLS.coef_[0]\n",
        "w['beta_abs'] = np.abs(w['beta']) # Get the absolute value for ranking\n",
        "w = w.sort_values(by='beta_abs')\n",
        "w['beta'].plot.barh()\n",
        "plt.title('OLS')\n",
        "plt.grid()\n",
        "plt.show()"
      ],
      "execution_count": null,
      "outputs": [
        {
          "output_type": "display_data",
          "data": {
            "image/png": "[encoded data removed]",
            "text/plain": [
              "<Figure size 432x288 with 1 Axes>"
            ]
          },
          "metadata": {
            "tags": [],
            "needs_background": "light"
          }
        }
      ]
    },
    {
      "cell_type": "markdown",
      "metadata": {
        "id": "4wF6YK23n4Yd"
      },
      "source": [
        "#### Conclusions drawn from the OLS :\n",
        "\n",
        "- We know that OLS models the conditional mean. The conditional mean of Y given X=x is defined as: E[Y|X=x]. It resulted in an R-squared 0.43 on the Test Data.\n",
        "\n",
        "\n",
        "- The above plot shows the independent variables in descending order of their coefficients. `equipinv` has the strongest influence to the mean of `gdpgr`, followed by `lfgr6085`, `noneqinv` and `gdp60vus`.\n",
        "\n",
        "- The above OLS provides only a partial view of the relationships between `gdpgr` and other varables. We are interested in describing the relationship at various points in the conditional distribution of dependent variable `gdpgr`. So Let's move onto Quantile Regression."
      ]
    },
    {
      "cell_type": "markdown",
      "metadata": {
        "id": "oEyIHogIn4h5"
      },
      "source": [
        "#### Quantile Regression \n",
        "- To explain the growth rate of income `gdpgr` in a better way, we will use \n",
        "Quantile Regression because : \n",
        "    - It models the entire conditional distribution of the target variable, while OLS only delivers the mean estimates.\n",
        "    - It  is more robust to mis-specification of error distribution as it makes no assumption on the dependent variable distribution.\n",
        "    - It is not sensitive to Outliers.\n",
        "- Actually, here we use quantiles (synonymous to percentiles) to describe the distribution of the **dependent** variable `gdpgr`.\n",
        "\n",
        "- We are going to model the relationship between Independent Variables (X) and the **conditional quantiles** of `gdpgr` (y).\n",
        "\n",
        "- It thus gives us a more comprehensive picture of the effect of the Independent Variables on `gdpgr`.\n",
        "\n",
        "- The equation can be described as \n",
        "$y_i = x_i'B_q + e_i$ where $B_q$ is a vector of parameters associated with the `qth` quantile. Unlike OLS, Its computataional implementation uses Linear Programming Methods as shown below.\n",
        "\n",
        "- We are interested in the 1%, 25%, 50%(median), 75%, and 99% percentile of the dependent variable `gdpgr`. So, There will be five Quantile Regressions. Since there are five different models, the variable coefficients shall vary.\n",
        "\n"
      ]
    },
    {
      "cell_type": "code",
      "metadata": {
        "colab": {
          "base_uri": "https://localhost:8080/"
        },
        "id": "1K3DcROd8NwY",
        "outputId": "6b816e7f-6804-4505-82b1-36ea38fbc87e"
      },
      "source": [
        "quantiles = [0.01, 0.25, 0.50, 0.75, 0.99]\n",
        "\n",
        "# Get the model, the cofficients and the predictions.\n",
        "def QuantReg(q):\n",
        "   # Modeling \n",
        "   mod = Q_reg.QuantReg(Y_train, X_train).fit(q=q)\n",
        "    \n",
        "   # Get the coefficients and the lower and upper bounds\n",
        "   coefficients = pd.DataFrame()\n",
        "   coefficients['param'] = mod.params\n",
        "   coefficients = pd.concat([coefficients,mod.conf_int()],axis=1) # \"mod.conf_int\" will give the lower and upper bounds\n",
        "   coefficients['q'] = q\n",
        "   coefficients.columns = ['beta','beta_lower','beta_upper','quantile']\n",
        "    \n",
        "   # Predictions\n",
        "   pred = pd.Series(mod.predict(X_test).round(2))\n",
        "   return coefficients, pred\n",
        "\n",
        "QuantReg_coefficients = pd.DataFrame()\n",
        "QuantReg_actual_pred = pd.DataFrame()\n",
        "\n",
        "# Get the actual and quantile predictions\n",
        "for q in quantiles:\n",
        "    coefficients, pred = QuantReg(q)\n",
        "    QuantReg_coefficients = pd.concat([QuantReg_coefficients,coefficients])\n",
        "    QuantReg_actual_pred = pd.concat([QuantReg_actual_pred,pred],axis=1)\n",
        "\n",
        "QuantReg_actual_pred.columns=quantiles\n",
        "QuantReg_actual_pred['actual'] = Y_test\n",
        "QuantReg_actual_pred['interval'] = QuantReg_actual_pred[0.99] - QuantReg_actual_pred[0.01]\n",
        "QuantReg_actual_pred = QuantReg_actual_pred.sort_values('interval').reset_index(drop=True)\n",
        "QuantReg_actual_pred"
      ],
      "execution_count": null,
      "outputs": [
        {
          "output_type": "execute_result",
          "data": {
            "text/html": [
              "<div>\n",
              "<style scoped>\n",
              "    .dataframe tbody tr th:only-of-type {\n",
              "        vertical-align: middle;\n",
              "    }\n",
              "\n",
              "    .dataframe tbody tr th {\n",
              "        vertical-align: top;\n",
              "    }\n",
              "\n",
              "    .dataframe thead th {\n",
              "        text-align: right;\n",
              "    }\n",
              "</style>\n",
              "<table border=\"1\" class=\"dataframe\">\n",
              "  <thead>\n",
              "    <tr style=\"text-align: right;\">\n",
              "      <th></th>\n",
              "      <th>0.01</th>\n",
              "      <th>0.25</th>\n",
              "      <th>0.5</th>\n",
              "      <th>0.75</th>\n",
              "      <th>0.99</th>\n",
              "      <th>actual</th>\n",
              "      <th>interval</th>\n",
              "    </tr>\n",
              "  </thead>\n",
              "  <tbody>\n",
              "    <tr>\n",
              "      <th>0</th>\n",
              "      <td>-0.00</td>\n",
              "      <td>0.01</td>\n",
              "      <td>0.02</td>\n",
              "      <td>0.03</td>\n",
              "      <td>0.04</td>\n",
              "      <td>0.016655</td>\n",
              "      <td>0.04</td>\n",
              "    </tr>\n",
              "    <tr>\n",
              "      <th>1</th>\n",
              "      <td>-0.02</td>\n",
              "      <td>0.00</td>\n",
              "      <td>0.01</td>\n",
              "      <td>0.02</td>\n",
              "      <td>0.02</td>\n",
              "      <td>0.012901</td>\n",
              "      <td>0.04</td>\n",
              "    </tr>\n",
              "    <tr>\n",
              "      <th>2</th>\n",
              "      <td>-0.00</td>\n",
              "      <td>0.02</td>\n",
              "      <td>0.03</td>\n",
              "      <td>0.04</td>\n",
              "      <td>0.05</td>\n",
              "      <td>0.043470</td>\n",
              "      <td>0.05</td>\n",
              "    </tr>\n",
              "    <tr>\n",
              "      <th>3</th>\n",
              "      <td>-0.02</td>\n",
              "      <td>0.01</td>\n",
              "      <td>0.01</td>\n",
              "      <td>0.03</td>\n",
              "      <td>0.06</td>\n",
              "      <td>-0.010255</td>\n",
              "      <td>0.08</td>\n",
              "    </tr>\n",
              "    <tr>\n",
              "      <th>4</th>\n",
              "      <td>-0.02</td>\n",
              "      <td>0.01</td>\n",
              "      <td>0.02</td>\n",
              "      <td>0.03</td>\n",
              "      <td>0.06</td>\n",
              "      <td>0.026435</td>\n",
              "      <td>0.08</td>\n",
              "    </tr>\n",
              "    <tr>\n",
              "      <th>5</th>\n",
              "      <td>-0.02</td>\n",
              "      <td>0.01</td>\n",
              "      <td>0.02</td>\n",
              "      <td>0.04</td>\n",
              "      <td>0.07</td>\n",
              "      <td>0.010578</td>\n",
              "      <td>0.09</td>\n",
              "    </tr>\n",
              "  </tbody>\n",
              "</table>\n",
              "</div>"
            ],
            "text/plain": [
              "   0.01  0.25   0.5  0.75  0.99    actual  interval\n",
              "0 -0.00  0.01  0.02  0.03  0.04  0.016655      0.04\n",
              "1 -0.02  0.00  0.01  0.02  0.02  0.012901      0.04\n",
              "2 -0.00  0.02  0.03  0.04  0.05  0.043470      0.05\n",
              "3 -0.02  0.01  0.01  0.03  0.06 -0.010255      0.08\n",
              "4 -0.02  0.01  0.02  0.03  0.06  0.026435      0.08\n",
              "5 -0.02  0.01  0.02  0.04  0.07  0.010578      0.09"
            ]
          },
          "metadata": {
            "tags": []
          },
          "execution_count": 10
        }
      ]
    },
    {
      "cell_type": "code",
      "metadata": {
        "colab": {
          "base_uri": "https://localhost:8080/"
        },
        "id": "YXyc2Ffz8Nys",
        "outputId": "8817f4da-daf3-42ef-8684-91fe88ec83f2"
      },
      "source": [
        "r2 = metrics.r2_score(QuantReg_actual_pred['actual'], QuantReg_actual_pred[0.5]).round(2)\n",
        "print('R2 score is {}'.format(r2) )"
      ],
      "execution_count": null,
      "outputs": [
        {
          "output_type": "stream",
          "text": [
            "R2 score is 0.53\n"
          ],
          "name": "stdout"
        }
      ]
    },
    {
      "cell_type": "code",
      "metadata": {
        "colab": {
          "base_uri": "https://localhost:8080/"
        },
        "id": "jSs7lRP_8N1n",
        "outputId": "dcb0a429-90a2-47b1-9200-d83970da2925"
      },
      "source": [
        "# Get the absolute value of the coefficients for ranking\n",
        "QuantReg_coefficients['beta_abs'] = np.abs(QuantReg_coefficients['beta'] ) \n",
        "QuantReg_coefficients = QuantReg_coefficients.sort_values(by=['quantile','beta_abs'])\n",
        "\n",
        "fig = plt.figure(figsize=(15, 6))\n",
        "\n",
        "n = len(quantiles)\n",
        "\n",
        "for i in range(n):\n",
        "    plt.subplot(1, n, i+1)\n",
        "    w = QuantReg_coefficients[QuantReg_coefficients['quantile']==quantiles[i]]\n",
        "    print(w)\n",
        "    w['beta'].plot.barh()\n",
        "    plt.grid()\n",
        "    plt.title('Quantile = ' + str(quantiles[i] ))\n",
        "\n",
        "fig.tight_layout()\n",
        "plt.show()"
      ],
      "execution_count": null,
      "outputs": [
        {
          "output_type": "stream",
          "text": [
            "              beta  beta_lower  beta_upper  quantile  beta_abs\n",
            "gdp60vus  0.002881         NaN         NaN      0.01  0.002881\n",
            "noneqinv -0.043874         NaN         NaN      0.01  0.043874\n",
            "equipinv  0.368636         NaN         NaN      0.01  0.368636\n",
            "lfgr6085 -0.515697         NaN         NaN      0.01  0.515697\n",
            "              beta  beta_lower  beta_upper  quantile  beta_abs\n",
            "gdp60vus -0.002241   -0.005676    0.001193      0.25  0.002241\n",
            "noneqinv  0.023468   -0.045744    0.092680      0.25  0.023468\n",
            "lfgr6085 -0.177066   -0.520300    0.166168      0.25  0.177066\n",
            "equipinv  0.206151    0.065655    0.346646      0.25  0.206151\n",
            "              beta  beta_lower  beta_upper  quantile  beta_abs\n",
            "gdp60vus -0.004088   -0.007492   -0.000684       0.5  0.004088\n",
            "noneqinv  0.044920   -0.021811    0.111650       0.5  0.044920\n",
            "lfgr6085 -0.107763   -0.503253    0.287727       0.5  0.107763\n",
            "equipinv  0.215267    0.076532    0.354001       0.5  0.215267\n",
            "              beta  beta_lower  beta_upper  quantile  beta_abs\n",
            "gdp60vus -0.009352   -0.013234   -0.005469      0.75  0.009352\n",
            "noneqinv  0.061289   -0.011300    0.133878      0.75  0.061289\n",
            "lfgr6085 -0.187136   -0.687416    0.313144      0.75  0.187136\n",
            "equipinv  0.225809    0.073888    0.377729      0.75  0.225809\n",
            "              beta  beta_lower  beta_upper  quantile  beta_abs\n",
            "noneqinv -0.013321         NaN         NaN      0.99  0.013321\n",
            "gdp60vus -0.023581         NaN         NaN      0.99  0.023581\n",
            "lfgr6085 -0.211219         NaN         NaN      0.99  0.211219\n",
            "equipinv  0.334259         NaN         NaN      0.99  0.334259\n"
          ],
          "name": "stdout"
        },
        {
          "output_type": "display_data",
          "data": {
            "image/png": "[encoded data removed]",
            "text/plain": [
              "<Figure size 1080x432 with 5 Axes>"
            ]
          },
          "metadata": {
            "tags": [],
            "needs_background": "light"
          }
        }
      ]
    },
    {
      "cell_type": "markdown",
      "metadata": {
        "id": "npYRINUQwVny"
      },
      "source": [
        "#### Conclusions drawn  from the Quantile Regression :\n",
        "- The coefficients of the five quantile regression models are plotted in the above bar charts. The coefficients are ranked in descending order by their absolute value.\n",
        "\n",
        "- The interesting observation is the variable ranking in the five quantile regression models varied.\n",
        "\n",
        "- Except for the 1% percentile, `equipinv` had a stronger and positive impact on `gdpgr` among all the other variables. In case of 1% quantile,  `lfgr6085` had a stronger and positive impact and `equipinv` is in second place.\n",
        "\n",
        "- We can also notice that among 25, 50, 75 percentiles, the relative ordering in descending order is same. But in case of 99 percentile,  `gdp60vus` has more impact than `noneqinv`.\n",
        "\n",
        "- In all the quantiles, `lfgr6085` always has an negative impact on the  `gdpgr`. \n",
        "\n",
        "- In more precise terms, We can interpret coefficients as follows :\n",
        "\n",
        "- \n",
        "Countries that have 1 unit more **Equipment investment for the country in 1960–1985** (`equipinv`) will have a 0.4 increment of `gdpgr`  at the 1% quantile & 0.2 increment of `gdpgr`  at the 25% quantile & 0.25 increment of `gdpgr`  at the 50% quantile & 0.2 increment of `gdpgr`  at the 75% quantile & 0.4 increment of `gdpgr`  at the 99% quantile.\n",
        "\n",
        "Similarly each coefficient at each quantile can be interpreted to explain their effect on growth rate of income (`gdpgr`)\n",
        "\n"
      ]
    },
    {
      "cell_type": "markdown",
      "metadata": {
        "id": "xXcGrAfUR8Iv"
      },
      "source": [
        "###**2. Since the data are cross-sectional, you are likely to encounter heteroscedasticity. Use one or more tests discussed in the class to find out if in fact there is heteroscedasticity.**\n"
      ]
    },
    {
      "cell_type": "markdown",
      "metadata": {
        "id": "XVLjAT1K8OLi"
      },
      "source": [
        "\n",
        "By **heteroskedasticity** we mean that the variance of the unobservable error conditional on explanatory variables, is **not constant**. \n",
        "\n",
        "Say if $y_i = x_i'B + e_i $, Var(e) is not constant. The reason being the variation in the dependent variable usually remains constant when the level of one or more independent variables increases or decreases. \n",
        "\n",
        "Now lets perform some tests to detect the presence of heteroskedasticity in the given data.\n",
        "\n",
        "**1. Lets check the plots of each independent variable with our dependent variable to interpret the relationships between them & see if they may cause heteroskedasticity.**"
      ]
    },
    {
      "cell_type": "code",
      "metadata": {
        "colab": {
          "base_uri": "https://localhost:8080/"
        },
        "id": "bO8iqy6V11Y6",
        "outputId": "6c03cfcd-1f10-48e5-a34f-ca88beffbeb1"
      },
      "source": [
        "# Let us find the relationships between gdpgr and other variables.\n",
        "plt.figure(figsize=(20, 4))\n",
        "features = ['gdp60vus', 'noneqinv','equipinv','lfgr6085']\n",
        "target = Input_df.gdpgr\n",
        "\n",
        "for i, col in enumerate(features):\n",
        "    plt.subplot(1, len(features) , i+1)\n",
        "    x = Input_df[col]\n",
        "    y = target\n",
        "    plt.scatter(x, y, marker='o')\n",
        "    plt.title(col)\n",
        "    plt.xlabel(col)\n",
        "    plt.ylabel('gdpgr')"
      ],
      "execution_count": null,
      "outputs": [
        {
          "output_type": "display_data",
          "data": {
            "image/png": "[encoded data removed]",
            "text/plain": [
              "<Figure size 1440x288 with 4 Axes>"
            ]
          },
          "metadata": {
            "tags": [],
            "needs_background": "light"
          }
        }
      ]
    },
    {
      "cell_type": "markdown",
      "metadata": {
        "id": "BKaO3ixu_94S"
      },
      "source": [
        "- From the above plots, Its very clear that all the above independent varaibles ( gdp60vus, noneqinv, equipinv, lfgr6085 ) tend to cause some heteroskedasticity due to the spread i.e. **Variance is varying widely.**"
      ]
    },
    {
      "cell_type": "markdown",
      "metadata": {
        "id": "IPVnoDVrA5A4"
      },
      "source": [
        "**2. Now Lets check the presence of heteroskedastic error by plotting the squares of errors obtained after fitting a OLS Model to the input data.**"
      ]
    },
    {
      "cell_type": "code",
      "metadata": {
        "id": "j5Pdb8EARsFF",
        "colab": {
          "base_uri": "https://localhost:8080/"
        },
        "outputId": "fc6f3efd-23fc-431d-ad0c-cf3a609b0780"
      },
      "source": [
        "OLS_model= sm.OLS(Input_df.gdpgr, Input_df[['gdp60vus', 'noneqinv','equipinv','lfgr6085']])\n",
        "plt.title(\"Histogram of residuals^2\")\n",
        "plt.xlabel(\"residual_sqr\")\n",
        "plt.ylabel(\"Frequency\")\n",
        "plt.hist(OLS_model.fit().resid**2, bins='auto')"
      ],
      "execution_count": null,
      "outputs": [
        {
          "output_type": "execute_result",
          "data": {
            "text/plain": [
              "(array([54., 17., 10.,  4.,  3.,  2.,  3.,  1.,  4.,  1.,  0.,  0.,  3.,\n",
              "         1.,  0.,  0.,  0.,  1.,  0.,  0.,  0.,  0.,  1.,  0.,  1.]),\n",
              " array([1.45352875e-08, 7.76711126e-05, 1.55327690e-04, 2.32984267e-04,\n",
              "        3.10640845e-04, 3.88297422e-04, 4.65953999e-04, 5.43610576e-04,\n",
              "        6.21267154e-04, 6.98923731e-04, 7.76580308e-04, 8.54236886e-04,\n",
              "        9.31893463e-04, 1.00955004e-03, 1.08720662e-03, 1.16486319e-03,\n",
              "        1.24251977e-03, 1.32017635e-03, 1.39783293e-03, 1.47548950e-03,\n",
              "        1.55314608e-03, 1.63080266e-03, 1.70845924e-03, 1.78611581e-03,\n",
              "        1.86377239e-03, 1.94142897e-03]),\n",
              " <a list of 25 Patch objects>)"
            ]
          },
          "metadata": {
            "tags": []
          },
          "execution_count": 14
        },
        {
          "output_type": "display_data",
          "data": {
            "image/png": "[encoded data removed]",
            "text/plain": [
              "<Figure size 432x288 with 1 Axes>"
            ]
          },
          "metadata": {
            "tags": [],
            "needs_background": "light"
          }
        }
      ]
    },
    {
      "cell_type": "markdown",
      "metadata": {
        "id": "yNiYPkonUb1g"
      },
      "source": [
        "- The above Histogram looks skewed which gives some sense of presence of heteroscedasticity in the model."
      ]
    },
    {
      "cell_type": "code",
      "metadata": {
        "id": "AJBXNLvQRsCh",
        "colab": {
          "base_uri": "https://localhost:8080/"
        },
        "outputId": "e9268c0e-f55b-40da-ada5-e0b409de074d"
      },
      "source": [
        "OLS = LinearRegression()\n",
        "OLS.fit(X_train,Y_train)\n",
        "\n",
        "# Making prediction on Testing data.\n",
        "Fitted_value = OLS.predict(X_train)\n",
        "\n",
        "residual_sqr = (Fitted_value - Y_train)**2          \n",
        "plt.scatter(Fitted_value, residual_sqr )\n",
        "plt.title(\"Fitted_value vs residual_sqr\")\n",
        "plt.ylabel(\"Residue^2\")\n",
        "plt.xlabel(\"Fitted_value\")\n",
        "plt.show()"
      ],
      "execution_count": null,
      "outputs": [
        {
          "output_type": "display_data",
          "data": {
            "image/png": "[encoded data removed]",
            "text/plain": [
              "<Figure size 432x288 with 1 Axes>"
            ]
          },
          "metadata": {
            "tags": [],
            "needs_background": "light"
          }
        }
      ]
    },
    {
      "cell_type": "markdown",
      "metadata": {
        "id": "z5R7ZVOQTq1D"
      },
      "source": [
        "- The above scatter plot which is between square of errors vs fitted model, also looks more scattered which is inturn an indication of presence of heteroscedasticity in the model."
      ]
    },
    {
      "cell_type": "markdown",
      "metadata": {
        "id": "eUFLx7kwTZWh"
      },
      "source": [
        "**Now Lets perform some Formal tests for Heteroscedasticity such as \n",
        "Bresuch-pagan test and White test.**\n",
        "\n",
        "#### **Bresuch and Pagan Test**"
      ]
    },
    {
      "cell_type": "code",
      "metadata": {
        "id": "6jtqzHHpNo3L"
      },
      "source": [
        "lr_model = OLS_model.fit()\n",
        "breuschpagan_test = het_breuschpagan(lr_model.resid, lr_model.model.exog)"
      ],
      "execution_count": null,
      "outputs": []
    },
    {
      "cell_type": "code",
      "metadata": {
        "colab": {
          "base_uri": "https://localhost:8080/"
        },
        "id": "DyXA51lmdvwJ",
        "outputId": "d68fd258-cf47-4bcb-fb66-48c1de44cdc7"
      },
      "source": [
        "labels = [\"LM Statistic\", \"LM-Test p-value\", \"F-Statistic\", \"F-Test p-value\"]\n",
        "print(dict(zip(labels, breuschpagan_test)))"
      ],
      "execution_count": null,
      "outputs": [
        {
          "output_type": "stream",
          "text": [
            "{'LM Statistic': 36.8534448752267, 'LM-Test p-value': 4.9418956701272665e-08, 'F-Statistic': 13.590884500645064, 'F-Test p-value': 6.460535074281494e-09}\n"
          ],
          "name": "stdout"
        }
      ]
    },
    {
      "cell_type": "markdown",
      "metadata": {
        "id": "W5sv-WXpO6dq"
      },
      "source": [
        "- The values of the LM Statistic, LM-Test p-value, F-Statistic, F-Test p-value are as shown in the above output. Basically we get two test statistics and two p-values after performing Bresuch and Pagan Test. \n",
        "\n",
        "- It is known that Heteroskedasticity is indicated if p < 0.05.\n",
        "\n",
        "- In the above output the P-values in both LM-Test and F-Test are < 0.05. **Hence `Bresuch and Pagan Test` indicates the presence of Heteroskedasticity.**\n"
      ]
    },
    {
      "cell_type": "markdown",
      "metadata": {
        "id": "EOHcDiI5PPST"
      },
      "source": [
        "####**White Test**"
      ]
    },
    {
      "cell_type": "code",
      "metadata": {
        "id": "ktA-M3zbOGRq",
        "colab": {
          "base_uri": "https://localhost:8080/"
        },
        "outputId": "b713eab0-c9d8-44c9-ec42-8ebe8fde7bfe"
      },
      "source": [
        "Input_df.head()"
      ],
      "execution_count": null,
      "outputs": [
        {
          "output_type": "execute_result",
          "data": {
            "text/html": [
              "<div>\n",
              "<style scoped>\n",
              "    .dataframe tbody tr th:only-of-type {\n",
              "        vertical-align: middle;\n",
              "    }\n",
              "\n",
              "    .dataframe tbody tr th {\n",
              "        vertical-align: top;\n",
              "    }\n",
              "\n",
              "    .dataframe thead th {\n",
              "        text-align: right;\n",
              "    }\n",
              "</style>\n",
              "<table border=\"1\" class=\"dataframe\">\n",
              "  <thead>\n",
              "    <tr style=\"text-align: right;\">\n",
              "      <th></th>\n",
              "      <th>country</th>\n",
              "      <th>gdp60vus</th>\n",
              "      <th>gdpgr</th>\n",
              "      <th>noneqinv</th>\n",
              "      <th>equipinv</th>\n",
              "      <th>lfgr6085</th>\n",
              "      <th>continent</th>\n",
              "    </tr>\n",
              "  </thead>\n",
              "  <tbody>\n",
              "    <tr>\n",
              "      <th>0</th>\n",
              "      <td>Tanzania</td>\n",
              "      <td>-3.909975</td>\n",
              "      <td>0.027319</td>\n",
              "      <td>0.1656</td>\n",
              "      <td>0.0149</td>\n",
              "      <td>0.027268</td>\n",
              "      <td>1</td>\n",
              "    </tr>\n",
              "    <tr>\n",
              "      <th>1</th>\n",
              "      <td>Ethiopia</td>\n",
              "      <td>-3.874197</td>\n",
              "      <td>0.013414</td>\n",
              "      <td>0.0488</td>\n",
              "      <td>0.0060</td>\n",
              "      <td>0.020364</td>\n",
              "      <td>1</td>\n",
              "    </tr>\n",
              "    <tr>\n",
              "      <th>2</th>\n",
              "      <td>Lesotho</td>\n",
              "      <td>-3.655754</td>\n",
              "      <td>0.056505</td>\n",
              "      <td>0.0449</td>\n",
              "      <td>0.0056</td>\n",
              "      <td>0.017348</td>\n",
              "      <td>1</td>\n",
              "    </tr>\n",
              "    <tr>\n",
              "      <th>3</th>\n",
              "      <td>Burma</td>\n",
              "      <td>-3.501836</td>\n",
              "      <td>0.026965</td>\n",
              "      <td>0.0410</td>\n",
              "      <td>0.0052</td>\n",
              "      <td>0.020524</td>\n",
              "      <td>2</td>\n",
              "    </tr>\n",
              "    <tr>\n",
              "      <th>4</th>\n",
              "      <td>Uganda</td>\n",
              "      <td>-3.493806</td>\n",
              "      <td>0.007123</td>\n",
              "      <td>0.0371</td>\n",
              "      <td>0.0048</td>\n",
              "      <td>0.030981</td>\n",
              "      <td>1</td>\n",
              "    </tr>\n",
              "  </tbody>\n",
              "</table>\n",
              "</div>"
            ],
            "text/plain": [
              "    country  gdp60vus     gdpgr  noneqinv  equipinv  lfgr6085  continent\n",
              "0  Tanzania -3.909975  0.027319    0.1656    0.0149  0.027268          1\n",
              "1  Ethiopia -3.874197  0.013414    0.0488    0.0060  0.020364          1\n",
              "2   Lesotho -3.655754  0.056505    0.0449    0.0056  0.017348          1\n",
              "3     Burma -3.501836  0.026965    0.0410    0.0052  0.020524          2\n",
              "4    Uganda -3.493806  0.007123    0.0371    0.0048  0.030981          1"
            ]
          },
          "metadata": {
            "tags": []
          },
          "execution_count": 18
        }
      ]
    },
    {
      "cell_type": "code",
      "metadata": {
        "id": "929MLekyNMy5"
      },
      "source": [
        "f ='gdpgr~gdp60vus+noneqinv+equipinv+lfgr6085'\n",
        "lr_model = smf.ols(formula=f, data=Input_df).fit()"
      ],
      "execution_count": null,
      "outputs": []
    },
    {
      "cell_type": "code",
      "metadata": {
        "id": "mY3xHvyzNM2O"
      },
      "source": [
        "white_test = het_white(lr_model.resid,  lr_model.model.exog)"
      ],
      "execution_count": null,
      "outputs": []
    },
    {
      "cell_type": "code",
      "metadata": {
        "id": "IWCyN_XbNUdh",
        "colab": {
          "base_uri": "https://localhost:8080/"
        },
        "outputId": "d7a8f597-7366-47f8-ae31-45b5bfa9da63"
      },
      "source": [
        "labels = [\"LM Statistic\", \"LM-Test p-value\", \"F-Statistic\", \"F-Test p-value\"]\n",
        "print(dict(zip(labels, white_test)))"
      ],
      "execution_count": null,
      "outputs": [
        {
          "output_type": "stream",
          "text": [
            "{'LM Statistic': 26.453017499765306, 'LM-Test p-value': 0.02265662088540303, 'F-Statistic': 2.161547909727024, 'F-Test p-value': 0.015201316992590091}\n"
          ],
          "name": "stdout"
        }
      ]
    },
    {
      "cell_type": "markdown",
      "metadata": {
        "id": "mr2hnactd4IA"
      },
      "source": [
        "- The values of the LM Statistic, LM-Test p-value, F-Statistic, F-Test p-value are as shown in the above output. Basically we get two test statistics and two p-values after performing Bresuch and Pagan Test. \n",
        "\n",
        "- It is known that Heteroskedasticity is indicated if p < 0.05.\n",
        "\n",
        "- In the above output the P-values in both LM-Test and F-Test are < 0.05. **Hence `White Test` also indicates the presence of Heteroskedasticity.**\n",
        "\n",
        "\n",
        "#### Using the above 3-4 tests, we can conclude that there is **heteroscedasticity**.\n"
      ]
    },
    {
      "cell_type": "markdown",
      "metadata": {
        "id": "mqX5w8kMwD0-"
      },
      "source": [
        "###**3. Use the heteroscedasticity consistent std error to compare the results with those obtained by the usual OLS method. Explain**"
      ]
    },
    {
      "cell_type": "markdown",
      "metadata": {
        "id": "Sx-EL50mWtMa"
      },
      "source": [
        "Here is our usual OLS Model, We will compare it with updated Model which uses heteroscedasticity consistent std error.\n"
      ]
    },
    {
      "cell_type": "code",
      "metadata": {
        "id": "rtSZvIPXwfaa"
      },
      "source": [
        "X = Input_df[['gdp60vus', 'noneqinv','equipinv', 'lfgr6085']]\n",
        "Y = Input_df[['gdpgr']]\n",
        "\n",
        "# Defining the Linear Probability Model\n",
        "OLS_model = sm.OLS(Y, X)\n",
        "\n",
        "# Fitting the Model\n",
        "OLS_results =  OLS_model.fit()"
      ],
      "execution_count": null,
      "outputs": []
    },
    {
      "cell_type": "code",
      "metadata": {
        "colab": {
          "base_uri": "https://localhost:8080/"
        },
        "id": "ik2DfqMZfU1N",
        "outputId": "d6661cd0-9dc1-47dc-d568-e0e5d72af46d"
      },
      "source": [
        "print(OLS_results.summary())"
      ],
      "execution_count": null,
      "outputs": [
        {
          "output_type": "stream",
          "text": [
            "                                 OLS Regression Results                                \n",
            "=======================================================================================\n",
            "Dep. Variable:                  gdpgr   R-squared (uncentered):                   0.709\n",
            "Model:                            OLS   Adj. R-squared (uncentered):              0.698\n",
            "Method:                 Least Squares   F-statistic:                              62.26\n",
            "Date:                Tue, 18 May 2021   Prob (F-statistic):                    1.57e-26\n",
            "Time:                        15:27:50   Log-Likelihood:                          297.36\n",
            "No. Observations:                 106   AIC:                                     -586.7\n",
            "Df Residuals:                     102   BIC:                                     -576.1\n",
            "Df Model:                           4                                                  \n",
            "Covariance Type:            nonrobust                                                  \n",
            "==============================================================================\n",
            "                 coef    std err          t      P>|t|      [0.025      0.975]\n",
            "------------------------------------------------------------------------------\n",
            "gdp60vus      -0.0057      0.001     -4.109      0.000      -0.008      -0.003\n",
            "noneqinv       0.0510      0.026      1.927      0.057      -0.002       0.104\n",
            "equipinv       0.2336      0.056      4.148      0.000       0.122       0.345\n",
            "lfgr6085      -0.2644      0.160     -1.656      0.101      -0.581       0.052\n",
            "==============================================================================\n",
            "Omnibus:                        2.847   Durbin-Watson:                   1.725\n",
            "Prob(Omnibus):                  0.241   Jarque-Bera (JB):                2.445\n",
            "Skew:                           0.185   Prob(JB):                        0.295\n",
            "Kurtosis:                       3.646   Cond. No.                         232.\n",
            "==============================================================================\n",
            "\n",
            "Warnings:\n",
            "[1] Standard Errors assume that the covariance matrix of the errors is correctly specified.\n"
          ],
          "name": "stdout"
        }
      ]
    },
    {
      "cell_type": "markdown",
      "metadata": {
        "id": "hsDiHXG1BtDT"
      },
      "source": [
        "**Accounting for the heteroskedasticity**\n",
        "- As we have detected that the errors are heteroskedastic. So, now we want to have a way to account for that.\n",
        "\n",
        "**Precedure to remove heteroskedasticity present in model**\n",
        "\n",
        "- So, The two main consequences of heteroskedasticity are \n",
        " \n",
        " I. Transforming the data to logs.\n",
        "\n",
        " II. Using heteroskedasticity robust standard error,\n",
        " \n",
        "This data contains some negative values also. so, we cannot transform data to logs, hence, Using heteroskedasticity **robust standard error**.\n",
        "\n",
        "\n",
        "\n",
        "\n"
      ]
    },
    {
      "cell_type": "markdown",
      "metadata": {
        "id": "g4SWOtUpOK4L"
      },
      "source": [
        "The formula for the robust covarience matrix is :-\n",
        "\n",
        "  ![image049x.png](data:image/png;base64,iVBORw0KGgoAAAANSUhEUgAAANoAAAAVCAMAAAAXfQCIAAAAAXNSR0IArs4c6QAAAFpQTFRFAAAAAAAAAAA6AABmADo6ADqQAGa2OgAAOgA6OgBmOjqQOma2OpDbZgAAZgA6ZjqQZrb/kDoAkNv/tmYAtmZmttuQtv//25A629uQ2////7Zm/9uQ//+2///b+aKylQAAAAF0Uk5TAEDm2GYAAAAJcEhZcwAADsQAAA7EAZUrDhsAAAAZdEVYdFNvZnR3YXJlAE1pY3Jvc29mdCBPZmZpY2V/7TVxAAACaUlEQVRYR+1W7VbCMAwtonwoU8aUajve/zXN52jTsa2c4y/pD4dJc9skN3dz7o9WWOE6TKCH9Tnzzkfo9vmdFru4hn/5GWzdZrYG6Xbnj3F/9sckKEfom+d9nloZcQ3OoO/ANne/tFnN5wphtjsXbDEMAqRuTiwixF9A34GdHeUps46IhdUPSQ9HOkjbL+1qfY5bImLHLUtMiABOWE8n5zi1MgIs6E8cfJN67Fs869/heOf6Bm7ocSwubUovGybb4xY2EfXEACkMphxBumYjLu0GjoJkBoci1WPfyE2aRBdgKnWToiA9hV5xZHzVQR1MOYIS0kRQLYO0naAGulRjI0WgzPgAQA+/4xYQZeqR/3FLSeWzbCqiIhFeviknoI9WQk05AjKddpgI7BovdQz6U4uNbQYlwwc0xx/8pv/A20mP8AbSEK0eDgMtnBhd2tK+MZqOnFbT6LjaCKgxM18dA1sqsaVI9Ig7uCsCIR8YkMaj49wmdUTPD8iAfF1NowhlhActwvMEakitEpvSEbXAkaJcPgGZaUBuUe0lhIz7L6vpiWkMYSQC+oUyolBKyFps1SlqGHQH5YjetFxh+ksCqcnSGJWE5O0QbYU0NY2894uI+MZHXR3S62psbAuIGepSoLfN7sQEYMn10LvA475A/FP6CilT0whCGYEXgq4lDr5JPTZIIskEPEgV+kaG2OGLkr/WsIlLXtkQe0ClTV4SmakctZEI+kjYZA68ST22Hfnkf1Pj8rsoj51uKs1t8WU1cXrqmoeuxhZlpFPS3zduNLNlAcLNVOdi5/wLa/jY9qjAowKPCvyTCvwCT8k6WJQ82jkAAAAASUVORK5CYII=), where X is the input matrix and S is the covariance matrix of the residuals."
      ]
    },
    {
      "cell_type": "code",
      "metadata": {
        "id": "zZ345gAHcxCP"
      },
      "source": [
        "X = Input_df[[\"gdp60vus\",\"noneqinv\",\"equipinv\", \"lfgr6085\"]]\n",
        "\n",
        "Input_matrix_inv = np.linalg.inv(np.transpose(X).dot(X))   \n",
        "\n",
        "robust_covariance_matrix = Input_matrix_inv.dot(np.transpose(X)).dot(np.diag(OLS_results.resid**2)).dot(X).dot(Input_matrix_inv)"
      ],
      "execution_count": null,
      "outputs": []
    },
    {
      "cell_type": "code",
      "metadata": {
        "colab": {
          "base_uri": "https://localhost:8080/"
        },
        "id": "xFqRyYQ-SJM5",
        "outputId": "05ce7e45-17b1-4ea9-d58d-70257a108ddd"
      },
      "source": [
        "# After correction, printing results in a compact form.\n",
        "\n",
        "# HC1 gives us the white standard errors and also adjusts for degree of freedom.\n",
        "corrected_model_1 = OLS_results.get_robustcov_results(cov_type = \"HC1\").summary()\n",
        "print(corrected_model_1)"
      ],
      "execution_count": null,
      "outputs": [
        {
          "output_type": "stream",
          "text": [
            "                                 OLS Regression Results                                \n",
            "=======================================================================================\n",
            "Dep. Variable:                  gdpgr   R-squared (uncentered):                   0.709\n",
            "Model:                            OLS   Adj. R-squared (uncentered):              0.698\n",
            "Method:                 Least Squares   F-statistic:                              66.73\n",
            "Date:                Tue, 18 May 2021   Prob (F-statistic):                    1.27e-27\n",
            "Time:                        15:27:50   Log-Likelihood:                          297.36\n",
            "No. Observations:                 106   AIC:                                     -586.7\n",
            "Df Residuals:                     102   BIC:                                     -576.1\n",
            "Df Model:                           4                                                  \n",
            "Covariance Type:                  HC1                                                  \n",
            "==============================================================================\n",
            "                 coef    std err          t      P>|t|      [0.025      0.975]\n",
            "------------------------------------------------------------------------------\n",
            "gdp60vus      -0.0057      0.002     -3.510      0.001      -0.009      -0.002\n",
            "noneqinv       0.0510      0.031      1.620      0.108      -0.011       0.113\n",
            "equipinv       0.2336      0.063      3.718      0.000       0.109       0.358\n",
            "lfgr6085      -0.2644      0.155     -1.707      0.091      -0.572       0.043\n",
            "==============================================================================\n",
            "Omnibus:                        2.847   Durbin-Watson:                   1.725\n",
            "Prob(Omnibus):                  0.241   Jarque-Bera (JB):                2.445\n",
            "Skew:                           0.185   Prob(JB):                        0.295\n",
            "Kurtosis:                       3.646   Cond. No.                         232.\n",
            "==============================================================================\n",
            "\n",
            "Warnings:\n",
            "[1] Standard Errors are heteroscedasticity robust (HC1)\n"
          ],
          "name": "stdout"
        }
      ]
    },
    {
      "cell_type": "markdown",
      "metadata": {
        "id": "6CglXgn7oeKU"
      },
      "source": [
        "##### Correcting errors using inbuilt OLS method  (Additional Info)"
      ]
    },
    {
      "cell_type": "code",
      "metadata": {
        "colab": {
          "base_uri": "https://localhost:8080/"
        },
        "id": "r4dfsllvWkq8",
        "outputId": "5a1ed3e6-00f0-4c57-ed25-d23da875207f"
      },
      "source": [
        "Corrected_model_2 = sm.OLS(Y, X).fit(cov_type = \"HC1\", use_t = True)\n",
        "print(Corrected_model_2.summary())"
      ],
      "execution_count": null,
      "outputs": [
        {
          "output_type": "stream",
          "text": [
            "                                 OLS Regression Results                                \n",
            "=======================================================================================\n",
            "Dep. Variable:                  gdpgr   R-squared (uncentered):                   0.709\n",
            "Model:                            OLS   Adj. R-squared (uncentered):              0.698\n",
            "Method:                 Least Squares   F-statistic:                              66.73\n",
            "Date:                Tue, 18 May 2021   Prob (F-statistic):                    1.27e-27\n",
            "Time:                        15:27:50   Log-Likelihood:                          297.36\n",
            "No. Observations:                 106   AIC:                                     -586.7\n",
            "Df Residuals:                     102   BIC:                                     -576.1\n",
            "Df Model:                           4                                                  \n",
            "Covariance Type:                  HC1                                                  \n",
            "==============================================================================\n",
            "                 coef    std err          t      P>|t|      [0.025      0.975]\n",
            "------------------------------------------------------------------------------\n",
            "gdp60vus      -0.0057      0.002     -3.510      0.001      -0.009      -0.002\n",
            "noneqinv       0.0510      0.031      1.620      0.108      -0.011       0.113\n",
            "equipinv       0.2336      0.063      3.718      0.000       0.109       0.358\n",
            "lfgr6085      -0.2644      0.155     -1.707      0.091      -0.572       0.043\n",
            "==============================================================================\n",
            "Omnibus:                        2.847   Durbin-Watson:                   1.725\n",
            "Prob(Omnibus):                  0.241   Jarque-Bera (JB):                2.445\n",
            "Skew:                           0.185   Prob(JB):                        0.295\n",
            "Kurtosis:                       3.646   Cond. No.                         232.\n",
            "==============================================================================\n",
            "\n",
            "Warnings:\n",
            "[1] Standard Errors are heteroscedasticity robust (HC1)\n"
          ],
          "name": "stdout"
        }
      ]
    },
    {
      "cell_type": "markdown",
      "metadata": {
        "id": "oC6lFNsM1mks"
      },
      "source": [
        "- From above results, The standard errors obtained using the heteroskedasticity robust standard error model for gdp60vus, noneqinv, equipinv and lfgr6085 are 0.002, 0.031, 0.063, 0.155 respectively, in which we can see some of the robust standard errors are lower than the corresponding OLS standard error and some are higher that is the adjustment of  the errors.\n",
        "\n",
        "- Accounting for the heteroscedasiticity has lower variances for our estimators i.e. the standard errors. hence, corrected model is a better model than previous OLS model.\n",
        "- Here, we can see F-statistics has been increased to some statistically significant level. Hence the corrected_model_2 best describes the data, which has least variance in errors."
      ]
    },
    {
      "cell_type": "markdown",
      "metadata": {
        "id": "ciBMj5tRxibH"
      },
      "source": [
        "###**4. The objective of the De Long and Summers study was to investigate the effect of equipment investment on economic growth. What do the regression results suggest?**"
      ]
    },
    {
      "cell_type": "markdown",
      "metadata": {
        "id": "pJwTPQ8Juv79"
      },
      "source": [
        "Here is the interpretation of Regression results that helps in investigating the effect of equipment investment on economic growth:\n",
        "\n",
        "- Actually, We are provided with the data of `equipinv` which is Equipment investment for the respective country in 1960–1985 and we are interpreting its effect on economic growth by gaining insights from the `gdpgr` which is the Growth rate of income per worker for a country averaged over 1960-1985.\n",
        "\n",
        "- If we take our Initial model of **Linear Regression** into consideration, It suggests that for each unit increase in the equipment investment (`equipinv`) for a country there is an increase in the economic growth rate (`gdpgr`) by 0.2587080955669804.  Moreover, among all the other variables, equipment investment (`equipinv`) is the one that has stronger effect or positive correlation on economic growth.\n",
        "\n",
        "- If we take **Quantile Regression**\n",
        " model,   It suggests that Countries that have 1 unit more Equipment investment (`equipinv`) will have\n",
        "  -  0.368636 increment of `gdpgr`  at the 1% quantile  \n",
        "  - 0.206151 increment of `gdpgr`  at the 25% quantile \n",
        "  - 0.215267 increment of `gdpgr`  at the 50% quantile \n",
        "  -  0.225809 increment of `gdpgr`  at the 75% quantile \n",
        "  - 0.334259  increment of `gdpgr`  at the 99% quantile.\n",
        "-  So from above points, It is clear that Countries with very high or very less economic growth has more positive effect from Equipment investment on the entire economic growth than the countries with average economic growth rates.\n",
        "\n",
        "- Except for the countries with lower growth rate , equipment investment ( `equipinv` ) had a stronger and positive impact on `gdpgr` among all the other variables. In case of those countries with lower growth rate, Growth rate of the labor force ( `lfgr6085` ) had a stronger and positive impact.\n",
        "\n",
        "- Inshort, Our Model also interprets that **developing countries**\n",
        "benefit from equipment investment."
      ]
    }
  ]
}