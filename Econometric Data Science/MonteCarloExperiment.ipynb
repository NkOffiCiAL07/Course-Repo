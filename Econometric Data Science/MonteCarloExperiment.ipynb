{
  "nbformat": 4,
  "nbformat_minor": 0,
  "metadata": {
    "colab": {
      "name": "Q3_HS421_Endsem.ipynb",
      "provenance": [],
      "collapsed_sections": []
    },
    "kernelspec": {
      "name": "python3",
      "display_name": "Python 3"
    },
    "language_info": {
      "name": "python"
    }
  },
  "cells": [
    {
      "cell_type": "markdown",
      "metadata": {
        "id": "m0EPyBCE78uF"
      },
      "source": [
        "# Econometric Data Science ( HS 421 )\n",
        "### *Instructor* : Dr. Sunil Paul\n",
        "\n",
        "## End Semester assessment: **Question 3**\n",
        "\n",
        "### Authors ( Group 12 )\n",
        "- Sanjay Marreddi\n",
        "- Rishabh Tripathi\n",
        "- Nishant Kumar\n",
        "- Yash Narnaware\n"
      ]
    },
    {
      "cell_type": "markdown",
      "metadata": {
        "id": "T5mahZRx-pyQ"
      },
      "source": [
        "### **Design a Monte Carlo experiment to study the consequences of omitting a relevant variable that is correlated with the included variable and discuss.**\n",
        "\n",
        "\n"
      ]
    },
    {
      "cell_type": "markdown",
      "metadata": {
        "id": "o4sifQCFBjyx"
      },
      "source": [
        "- First, Let us try to understand the consequences of omitting a relevant variable that is correlated with the included variable in a general case.\n",
        "\n",
        "- If we assume the correct model is given by $y_i=\\beta_0+\\beta _{1}x_{1i}+\\beta _{2}x_{2i}+\\varepsilon_1$ but we estimated the model $y_i=\\beta _{1}x_{1i}+\\varepsilon_2$. Notice that we have ommited the $x_2$ variable. \n",
        "\n",
        "\n",
        "\n",
        "\n",
        "- Let the estimate of $\\beta _{1}$ in the above misspecified model equal to $\\widehat{\\beta }_{1}$ which is equal to $%\n",
        "\\frac{\\sum x_{1}y}{\\sum x_{1}^{2}}$. Now upon substituting the true model into the expression of $\\widehat{\\beta }_{1}$ and solving, we get\n",
        "\n",
        "$$E(\n",
        "\\widehat{\\beta }_{1}) =\\beta _{1}+\\beta _{2}b_{21};  $$where $b_{21}=\\frac{\\sum x_{1}x_{2}}{\\sum x_{1}^{2}}$ is the regression coefficient from a regression of $x_{2}$ on $x_{1.}$ Hence the coefficient from misspecifed model will be biased with the Bias value of (coefficient of excluded variable) $*$ ( Coefficient in a regression of the excluded variable on the included variables).\n",
        "\n",
        "- From the definition of bias we can also infer that the $\\widehat{\\beta }_{1}$ will be unbiased if $\\beta _{2}=0$ (if the omitted variable has no effect on Y) and $b_{21}=0$ (i.e. when $x_{2}$ and $x_{1}$are uncorrelated).\n",
        "\n",
        "- Similarly as the error term captures the influence of **omitted variable** ( $x_2$) the variance would be incorrectly estimated as a result the variance of coefficients would also be biased.\n",
        "\n",
        "- To conclude, **If we omit a relevant variable that is correlated with the include variable then the estimates of constant and slope coefficient are biased and inconsistent and the variance of the disturbance is incorrectly estimated.**\n",
        "\n",
        "- Now Let us perform a **Monte Carlo experiment** to study the consequences of omitting a relevant variable that is correlated with the included variable."
      ]
    },
    {
      "cell_type": "code",
      "metadata": {
        "id": "eP-Nj80LNBvL"
      },
      "source": [
        "# Monte Carlo experiment demonstrating the consequences of omitting a relevant correlated variable \n",
        "\n",
        "# Importing the required libraries\n",
        "import numpy as np\n",
        "import matplotlib.pyplot as plt\n",
        "\n",
        "# Defining parameters\n",
        "alpha = 1\n",
        "beta1 = 2\n",
        "beta2 = 1\n",
        "\n",
        "# Sample size \n",
        "n = 10000\n",
        "\n",
        "# Number of samples\n",
        "m = 1000\n",
        "\n",
        "# Creates an mx1 2D array with all zeroes.\n",
        "beta_hat = np.zeros((m,1))\n",
        "\n",
        "true_y = []\n",
        "pred_y = []\n",
        "\n",
        "# Iterating over all the samples.\n",
        "for i in range(m):\n",
        "\n",
        "      # Generating independent variables randomly\n",
        "      x1 = 2*np.random.randn(n,1)\n",
        "\n",
        "      x2 = 0.5*x1 + np.random.randn(n,1)\n",
        "\n",
        "      # Generating the error\n",
        "      e = np.random.randn(n,1)\n",
        "\n",
        "      # Generating the dependent variable\n",
        "      y = alpha + beta1*x1 + beta2*x2 + e\n",
        "\n",
        "      true_y.append(y)\n",
        "\n",
        "      # Creates a nx2 2D array with all ones. \n",
        "      X = np.ones((n,2))  \n",
        "\n",
        "      # We are updating X with only x1 values. \n",
        "      # It means we are estimating as : Y = A + B1*x1 + E\n",
        "      X[:,1] = x1[:,0]\n",
        "\n",
        "      # Computing the coefficients using B_hat = ( Inv(X'X) * X' * y ) \n",
        "      A = np.transpose(X)\n",
        "      B = (np.linalg.inv(A.dot(X)))  \n",
        "      C = B.dot(A)                   \n",
        "      beta_hatvec = C.dot(y)\n",
        "\n",
        "      y_hat = beta_hatvec[0] + beta_hatvec[1]*x1\n",
        "      pred_y.append(y_hat)\n",
        "\n",
        "      # Storing the Beta Values\n",
        "      beta_hat[i] = beta_hatvec[1][0]\n",
        "\n"
      ],
      "execution_count": null,
      "outputs": []
    },
    {
      "cell_type": "markdown",
      "metadata": {
        "id": "DPpHOlIHBOQQ"
      },
      "source": [
        "Analysing the **Monte Carlo Experiment** which is coded above :\n",
        "\n",
        "- We have taken the true model equation in the same way as described above i.e. $y_i=\\beta_0+\\beta _{1}x_{1i}+\\beta _{2}x_{2i}+\\varepsilon_1$.\n",
        "- We took the values of $x_{1i}$ = 2 * random value\n",
        "and $x_{2i}$ = 0. 5 * $x_{1i}$ + random value. So we can say that $x_{1}$ and $x_{2}$  are **correlated**.\n",
        "\n",
        "- But we estimated the model $y_i=\\beta _{1}x_{1i}+\\varepsilon_2$ by ommiting the $x_2$ variable which is correlated with the $x_1$ variable. \n",
        "\n",
        "- To estimate the coefficients, We have used the mathematical formulation of Multiple Regression as follows : \n",
        "\n",
        "$${\\hat{\\beta}_{1}=(X}^{\\prime }{X)}^{-1}{X}^{\\prime }{y}$$\n",
        "\n",
        "- We ran the same experiment for 1000 (m) samples with size of each sample being 10000 (n). For each sample, we generated the random values for $x_{1}$, $x_{2}$,  $\\varepsilon_1$, constructed the dependent variable equation & estimated the coefficents using above method and stored them in array.\n",
        "\n",
        "- So now the estimated value of $\\beta _{1}$ which is **beta_hat** in the above code will be **biased** that means the true value\n",
        "of $\\beta _{1}$ will not be equal or close to the estimated value of $\\beta _{1}$.\n",
        "\n",
        " This can be seen with the below plot."
      ]
    },
    {
      "cell_type": "code",
      "metadata": {
        "colab": {
          "base_uri": "https://localhost:8080/",
          "height": 297
        },
        "id": "ryUGTD4ICS67",
        "outputId": "5217e895-b076-4e05-edf0-0665582410c5"
      },
      "source": [
        "# Plotting the histogram of resulting Beta Values\n",
        "plt.hist(beta_hat,bins = 25)\n",
        "plt.xlabel(\"beta_hat\")\n",
        "plt.ylabel(\"frequency\")"
      ],
      "execution_count": null,
      "outputs": [
        {
          "output_type": "execute_result",
          "data": {
            "text/plain": [
              "Text(0, 0.5, 'frequency')"
            ]
          },
          "metadata": {
            "tags": []
          },
          "execution_count": 2
        },
        {
          "output_type": "display_data",
          "data": {
            "image/png": "[encoded data removed]",
            "text/plain": [
              "<Figure size 432x288 with 1 Axes>"
            ]
          },
          "metadata": {
            "tags": [],
            "needs_background": "light"
          }
        }
      ]
    },
    {
      "cell_type": "markdown",
      "metadata": {
        "id": "6KfzavlfCoLm"
      },
      "source": [
        "- In the above histogram we can observe that the expected value of $\\beta _{1}$ is around **2.5** and the true value of $\\beta _{1}$ We\n",
        "picked at the start of the model is **2**.\n",
        "\n",
        "- Hence Expected value of $\\beta _{1}$ is biased and inconsistent. Moreover the estimated value will not converge\n",
        "towards the true value as the number of samples or sample size increases."
      ]
    },
    {
      "cell_type": "code",
      "metadata": {
        "colab": {
          "base_uri": "https://localhost:8080/"
        },
        "id": "aGKVgrcMONP5",
        "outputId": "b16313a2-8617-431d-8769-5e6886713bb2"
      },
      "source": [
        "# Computing the variance of distribution.\n",
        "print( \"Actual Variance of the distribution is\", np.var(true_y) )\n",
        "print( \"Predicted Variance of the distribution is\", np.var(pred_y) )"
      ],
      "execution_count": null,
      "outputs": [
        {
          "output_type": "stream",
          "text": [
            "Actual Variance of the distribution is 27.013599977786182\n",
            "Predicted Variance of the distribution is 25.013429318357655\n"
          ],
          "name": "stdout"
        }
      ]
    },
    {
      "cell_type": "markdown",
      "metadata": {
        "id": "PCyFwLy6HZVT"
      },
      "source": [
        "- From the above results, It is also clear that the variance of the disturbance is **incorrectly** estimated.\n",
        "\n",
        "- Hence we can conclude that **If we omit a relevant variable that is correlated with the include variable then the estimates of constant and slope coefficient are biased and inconsistent and the variance of the disturbance is incorrectly estimated by performing and analysing the `Monte Carlo experiment`**"
      ]
    }
  ]
}
