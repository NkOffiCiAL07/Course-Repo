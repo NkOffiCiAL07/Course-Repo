{
 "cells": [
  {
   "cell_type": "markdown",
   "id": "cf49a28b",
   "metadata": {},
   "source": [
    "### The ‘astsa‘ package contains a time series data called ‘jj’ . We saw this data in the first lecture. The goal of this homework is to fit an AR process into this this data. Use the following steps (answer the questions in the steps too) in Python for model-fitting:"
   ]
  },
  {
   "cell_type": "markdown",
   "id": "e4096426",
   "metadata": {},
   "source": [
    "### Q1. Plot the data. Does it look like a stationary time series data? Explain."
   ]
  },
  {
   "cell_type": "code",
   "execution_count": 15,
   "id": "f476b348",
   "metadata": {
    "scrolled": true
   },
   "outputs": [
    {
     "data": {
      "text/html": [
       "<div>\n",
       "<style scoped>\n",
       "    .dataframe tbody tr th:only-of-type {\n",
       "        vertical-align: middle;\n",
       "    }\n",
       "\n",
       "    .dataframe tbody tr th {\n",
       "        vertical-align: top;\n",
       "    }\n",
       "\n",
       "    .dataframe thead th {\n",
       "        text-align: right;\n",
       "    }\n",
       "</style>\n",
       "<table border=\"1\" class=\"dataframe\">\n",
       "  <thead>\n",
       "    <tr style=\"text-align: right;\">\n",
       "      <th></th>\n",
       "      <th>value</th>\n",
       "      <th>quarters</th>\n",
       "    </tr>\n",
       "    <tr>\n",
       "      <th>index</th>\n",
       "      <th></th>\n",
       "      <th></th>\n",
       "    </tr>\n",
       "  </thead>\n",
       "  <tbody>\n",
       "    <tr>\n",
       "      <th>1960Q1</th>\n",
       "      <td>-0.342490</td>\n",
       "      <td>1960Q1</td>\n",
       "    </tr>\n",
       "    <tr>\n",
       "      <th>1960Q2</th>\n",
       "      <td>-0.462035</td>\n",
       "      <td>1960Q2</td>\n",
       "    </tr>\n",
       "    <tr>\n",
       "      <th>1960Q3</th>\n",
       "      <td>-0.162519</td>\n",
       "      <td>1960Q3</td>\n",
       "    </tr>\n",
       "    <tr>\n",
       "      <th>1960Q4</th>\n",
       "      <td>-0.820981</td>\n",
       "      <td>1960Q4</td>\n",
       "    </tr>\n",
       "    <tr>\n",
       "      <th>1961Q1</th>\n",
       "      <td>-0.494296</td>\n",
       "      <td>1961Q1</td>\n",
       "    </tr>\n",
       "  </tbody>\n",
       "</table>\n",
       "</div>"
      ],
      "text/plain": [
       "           value quarters\n",
       "index                    \n",
       "1960Q1 -0.342490   1960Q1\n",
       "1960Q2 -0.462035   1960Q2\n",
       "1960Q3 -0.162519   1960Q3\n",
       "1960Q4 -0.820981   1960Q4\n",
       "1961Q1 -0.494296   1961Q1"
      ]
     },
     "execution_count": 15,
     "metadata": {},
     "output_type": "execute_result"
    }
   ],
   "source": [
    "import matplotlib.pyplot as plt\n",
    "import numpy as np\n",
    "import pandas as pd\n",
    "import astsadata\n",
    "\n",
    "jjdata = pd.DataFrame(astsadata.jj)\n",
    "jjdata[\"quarters\"] = jjdata.index.astype(str)\n",
    "jjdata.head()"
   ]
  },
  {
   "cell_type": "code",
   "execution_count": 2,
   "id": "bf6ea952",
   "metadata": {
    "scrolled": true
   },
   "outputs": [
    {
     "data": {
      "image/png": "[encoded data removed]",
      "text/plain": [
       "<Figure size 432x288 with 1 Axes>"
      ]
     },
     "metadata": {
      "needs_background": "light"
     },
     "output_type": "display_data"
    }
   ],
   "source": [
    "plt.xticks(rotation = 90)\n",
    "\n",
    "plt.title(\"Non-Stationary-Stochastic-Graph\")\n",
    "plt.scatter(jjdata[\"quarters\"], jjdata[\"value\"], color = \"black\")\n",
    "plt.plot(jjdata[\"quarters\"], jjdata[\"value\"])\n",
    "plt.show()"
   ]
  },
  {
   "cell_type": "markdown",
   "id": "127aa662",
   "metadata": {},
   "source": [
    "No, \n",
    "\n",
    "A stationary time series has statistical properties that do not vary in time such as mean, variance etc., but this graph is increasing with time which says mean is changing if compare from one part of the graph with another partand also values are more deviating from mean as it goes upward, hence we can conlclude that graph is not-stationary."
   ]
  },
  {
   "cell_type": "markdown",
   "id": "1eb577a6",
   "metadata": {},
   "source": [
    "### Q2. Transform the data to make it stationary. First take the log transformation. Then apply differencing. (Here ‘log transformation‘ of the data means replacing the data by taking logs of all the values in the original data. ‘Differencing‘ means replacing a time series Xt by Yt = Xt - Xt−1.)"
   ]
  },
  {
   "cell_type": "markdown",
   "id": "49d7ee49",
   "metadata": {},
   "source": [
    "#### Applying Log transformation"
   ]
  },
  {
   "cell_type": "code",
   "execution_count": 3,
   "id": "cb6a36d1",
   "metadata": {},
   "outputs": [],
   "source": [
    "def log_conversion(data):\n",
    "    return np.log(data)\n",
    "\n",
    "jjdata[\"value\"] = log_conversion(jjdata[\"value\"])"
   ]
  },
  {
   "cell_type": "markdown",
   "id": "52952ef0",
   "metadata": {},
   "source": [
    "#### Applying Differencing "
   ]
  },
  {
   "cell_type": "code",
   "execution_count": 4,
   "id": "67ace207",
   "metadata": {
    "scrolled": true
   },
   "outputs": [],
   "source": [
    "def differencing(data):\n",
    "    ar = []\n",
    "    ar.append(jjdata[\"value\"][0])\n",
    "    for i in range(1, len(jjdata[\"value\"])):\n",
    "        ar.append(jjdata[\"value\"][i] - jjdata[\"value\"][i-1])\n",
    "        \n",
    "    return ar\n",
    "\n",
    "data = differencing(jjdata[\"value\"])"
   ]
  },
  {
   "cell_type": "markdown",
   "id": "30870761",
   "metadata": {},
   "source": [
    "### Q3. Plot the transformed data. Does it appear to be stationary?"
   ]
  },
  {
   "cell_type": "code",
   "execution_count": 5,
   "id": "02b13928",
   "metadata": {
    "scrolled": false
   },
   "outputs": [
    {
     "data": {
      "image/png": "[encoded data removed]",
      "text/plain": [
       "<Figure size 504x288 with 1 Axes>"
      ]
     },
     "metadata": {
      "needs_background": "light"
     },
     "output_type": "display_data"
    }
   ],
   "source": [
    "plt.figure(figsize=(7, 4))\n",
    "plt.xticks(rotation = 90)\n",
    "\n",
    "plt.title(\"Stationary-Stochastic-Graph\")\n",
    "plt.scatter(jjdata[\"quarters\"], data, color = \"black\")\n",
    "plt.plot(jjdata[\"quarters\"], data)\n",
    "plt.show()"
   ]
  },
  {
   "cell_type": "markdown",
   "id": "4fca26e3",
   "metadata": {},
   "source": [
    "Yes,\n",
    "\n",
    "It's a flat looking series, without trend, constant variance over time, a constant autocorrelation structure over time and no seasonal trend or seasonal effects, which says this is stationary."
   ]
  },
  {
   "cell_type": "markdown",
   "id": "2f2ad2ff",
   "metadata": {},
   "source": [
    "### Q4. Calculate and plot the acf and pacf of the transformed data. What can you conclude from the plots of acf and pacf? (In my calculations an AR(4) model should be a good fit.)"
   ]
  },
  {
   "cell_type": "code",
   "execution_count": 6,
   "id": "827b8d38",
   "metadata": {
    "scrolled": true
   },
   "outputs": [],
   "source": [
    "from statsmodels.tsa.stattools import acf, acovf, pacf\n",
    "\n",
    "acf_of_ar = acf(data, nlags= 40)\n",
    "pacf_of_ar = pacf(data, nlags= 40)"
   ]
  },
  {
   "cell_type": "markdown",
   "id": "fb2803b2",
   "metadata": {},
   "source": [
    "####  Plotting Autocorrelation Function (ACF)"
   ]
  },
  {
   "cell_type": "code",
   "execution_count": 7,
   "id": "6675c496",
   "metadata": {},
   "outputs": [
    {
     "data": {
      "image/png": "[encoded data removed]",
      "text/plain": [
       "<Figure size 432x288 with 1 Axes>"
      ]
     },
     "metadata": {
      "needs_background": "light"
     },
     "output_type": "display_data"
    }
   ],
   "source": [
    "plt.bar(np.arange(41), acf_of_ar)\n",
    "plt.show()"
   ]
  },
  {
   "cell_type": "markdown",
   "id": "0011fdfb",
   "metadata": {},
   "source": [
    "#### Partial Autocorrelation Function (PACF)"
   ]
  },
  {
   "cell_type": "code",
   "execution_count": 8,
   "id": "57974c52",
   "metadata": {
    "scrolled": false
   },
   "outputs": [
    {
     "data": {
      "image/png": "[encoded data removed]",
      "text/plain": [
       "<Figure size 432x288 with 1 Axes>"
      ]
     },
     "metadata": {
      "needs_background": "light"
     },
     "output_type": "display_data"
    }
   ],
   "source": [
    "plt.bar(np.arange(41), pacf_of_ar)\n",
    "plt.show()"
   ]
  },
  {
   "cell_type": "markdown",
   "id": "8e9a9f8d",
   "metadata": {},
   "source": [
    "ACF plot is gradually decreasing and PACF has 4 significat values, hence can conclude that It is a AR process of order 4."
   ]
  },
  {
   "cell_type": "markdown",
   "id": "5f9f629c",
   "metadata": {},
   "source": [
    "### Q5. Estimate the parameters of the fitted model and write the final answer in the form of an AR process."
   ]
  },
  {
   "cell_type": "code",
   "execution_count": 9,
   "id": "ee789e9e",
   "metadata": {},
   "outputs": [],
   "source": [
    "rho_1 = acf(data)[1]\n",
    "rho_2 = acf(data)[2]\n",
    "rho_3 = acf(data)[3]\n",
    "rho_4 = acf(data)[4]\n",
    "\n",
    "rho = [1, rho_1, rho_2, rho_3, rho_4]"
   ]
  },
  {
   "cell_type": "markdown",
   "id": "4859b7ba",
   "metadata": {},
   "source": [
    "#### Defining symmetric matrix of AR(4)"
   ]
  },
  {
   "cell_type": "code",
   "execution_count": 10,
   "id": "96563233",
   "metadata": {},
   "outputs": [],
   "source": [
    "Sym_matrix = [[1 , rho_1, rho_2, rho_3], [rho_1, 1, rho_3, rho_2], [rho_2, rho_3, 1, rho_1], [rho_3, rho_2, rho_1, 1]]"
   ]
  },
  {
   "cell_type": "markdown",
   "id": "00966955",
   "metadata": {},
   "source": [
    "#### Calculating coefficients(ai's) of AR(4) process by solving 4 linear equations using Yule-Walker equations."
   ]
  },
  {
   "cell_type": "code",
   "execution_count": 16,
   "id": "cae84543",
   "metadata": {},
   "outputs": [
    {
     "data": {
      "text/plain": [
       "array([-0.4192689 , -0.22451597, -0.14606519,  0.48185095])"
      ]
     },
     "execution_count": 16,
     "metadata": {},
     "output_type": "execute_result"
    }
   ],
   "source": [
    "soln = np.linalg.solve(Sym_matrix, [rho_1, rho_2, rho_3, rho_4])\n",
    "soln"
   ]
  },
  {
   "cell_type": "markdown",
   "id": "7c803bb3",
   "metadata": {},
   "source": [
    "#### Extracting Gamma_0  from ACOVF values."
   ]
  },
  {
   "cell_type": "code",
   "execution_count": 12,
   "id": "71321067",
   "metadata": {
    "scrolled": true
   },
   "outputs": [],
   "source": [
    "gamma_0 = acovf(data)[0]"
   ]
  },
  {
   "cell_type": "markdown",
   "id": "94a443f3",
   "metadata": {},
   "source": [
    "#### Calculating variance of the Noise in AR(4) ( Assumed mean = 0 in this process )."
   ]
  },
  {
   "cell_type": "code",
   "execution_count": 13,
   "id": "267d8292",
   "metadata": {},
   "outputs": [
    {
     "data": {
      "text/plain": [
       "0.02010249121546484"
      ]
     },
     "execution_count": 13,
     "metadata": {},
     "output_type": "execute_result"
    }
   ],
   "source": [
    "term1 = 0\n",
    "for i in range(len(soln)):\n",
    "    term1 = term1 + soln[i]*soln[i]\n",
    "\n",
    "term2 = 0\n",
    "for i in range(len(soln)):\n",
    "    for j in range(len(soln)):\n",
    "        if i != j:\n",
    "            term2 = term2 + soln[i]*soln[j]*rho[abs(i-j)]\n",
    "\n",
    "variance = gamma_0 * (1 - term1 - term2)\n",
    "variance"
   ]
  },
  {
   "cell_type": "markdown",
   "id": "d1e5dfc7",
   "metadata": {},
   "source": [
    "#### Calculating deviation from variance of the Noise ~ N(0, variance) of AR(4)."
   ]
  },
  {
   "cell_type": "code",
   "execution_count": 14,
   "id": "f685cd59",
   "metadata": {
    "scrolled": true
   },
   "outputs": [
    {
     "data": {
      "text/plain": [
       "0.14178325435489497"
      ]
     },
     "execution_count": 14,
     "metadata": {},
     "output_type": "execute_result"
    }
   ],
   "source": [
    "Deviation = np.sqrt(variance)\n",
    "Deviation"
   ]
  },
  {
   "cell_type": "markdown",
   "id": "e0914ed3",
   "metadata": {},
   "source": [
    "# So, finally AR(4) looks as below\n",
    "## X_t = - 0.4192689 * X_t-1 - 0.22451597 * X_t-2 - 0.14606519 * X_t-3 + 0.48185095 * X_t-4 + Noise ~ N(mean, Variance), where mean  = 0 and variance  = 0.02010249121546484.\n"
   ]
  }
 ],
 "metadata": {
  "kernelspec": {
   "display_name": "Python 3 (ipykernel)",
   "language": "python",
   "name": "python3"
  },
  "language_info": {
   "codemirror_mode": {
    "name": "ipython",
    "version": 3
   },
   "file_extension": ".py",
   "mimetype": "text/x-python",
   "name": "python",
   "nbconvert_exporter": "python",
   "pygments_lexer": "ipython3",
   "version": "3.10.0b3"
  }
 },
 "nbformat": 4,
 "nbformat_minor": 5
}
